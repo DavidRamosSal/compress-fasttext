{
 "cells": [
  {
   "cell_type": "markdown",
   "metadata": {},
   "source": [
    "В этом блокноте я честно высчитываю, а какое же качество дают модели, сжатые в соседнем блокноте compressions.ipynb\n",
    "\n",
    "Для запуска могут потребоваться библиотеки, не указанные в requirements. "
   ]
  },
  {
   "cell_type": "markdown",
   "metadata": {},
   "source": [
    "# Готовим функции-оценивалки"
   ]
  },
  {
   "cell_type": "code",
   "execution_count": 1,
   "metadata": {},
   "outputs": [],
   "source": [
    "original_path = 'C:/Users/ddale/Downloads/NLP/rusvectores/model.model'\n",
    "exp_path = 'C:/Users/ddale/Downloads/NLP/compress_ft/'"
   ]
  },
  {
   "cell_type": "code",
   "execution_count": 2,
   "metadata": {},
   "outputs": [],
   "source": [
    "import os\n",
    "import sys\n",
    "\n",
    "def add_sys_path(p):\n",
    "    p = os.path.abspath(p)\n",
    "    if p not in sys.path:\n",
    "        sys.path.append(p)\n",
    "\n",
    "add_sys_path('..')"
   ]
  },
  {
   "cell_type": "code",
   "execution_count": 3,
   "metadata": {},
   "outputs": [],
   "source": [
    "import gensim\n",
    "import pandas as pd\n",
    "from scipy.stats import pearsonr, spearmanr\n",
    "from sklearn.metrics import roc_auc_score"
   ]
  },
  {
   "cell_type": "code",
   "execution_count": 106,
   "metadata": {},
   "outputs": [],
   "source": [
    "from importlib import reload\n",
    "import compress_fasttext.evaluation\n",
    "reload(compress_fasttext.evaluation);"
   ]
  },
  {
   "cell_type": "code",
   "execution_count": 4,
   "metadata": {},
   "outputs": [],
   "source": [
    "from compress_fasttext.evaluation import cosine, vocabulary_from_files, make_evaluator\n",
    "\n",
    "from compress_fasttext.utils import mb"
   ]
  },
  {
   "cell_type": "code",
   "execution_count": 5,
   "metadata": {},
   "outputs": [],
   "source": [
    "hj = pd.read_csv('../data/word_similarity/hj.csv', encoding='utf-8')\n",
    "simlex = pd.read_csv('../data/word_similarity/ru_simlex965.tsv', encoding='utf-8', sep='\\t')\n",
    "rt = pd.read_csv('../data/word_similarity/rt-test.csv', encoding='utf-8')\n",
    "ae2 = pd.read_csv('../data/word_similarity/ae2-test.csv', encoding='utf-8')"
   ]
  },
  {
   "cell_type": "code",
   "execution_count": 107,
   "metadata": {},
   "outputs": [],
   "source": [
    "small_vocab = list(vocabulary_from_files('../data/toy_corpora/').keys())"
   ]
  },
  {
   "cell_type": "code",
   "execution_count": 7,
   "metadata": {},
   "outputs": [],
   "source": [
    "def produce_ws(model, words1, words2):\n",
    "    def emb(w):\n",
    "        if w in model:\n",
    "            return model[w]\n",
    "        return model['да'] * 0\n",
    "    return [cosine(emb(w1), emb(w2)) for w1, w2 in zip(words1, words2)]\n",
    "\n",
    "def evaluate_ws(model, dataset, metric=lambda x,y: spearmanr(x,y).correlation):\n",
    "    ws = produce_ws(model, dataset.word1, dataset.word2)\n",
    "    return metric(dataset.sim, ws)\n"
   ]
  },
  {
   "cell_type": "code",
   "execution_count": 8,
   "metadata": {},
   "outputs": [],
   "source": [
    "def eval_hj(model):\n",
    "    return evaluate_ws(model, hj, metric=lambda x,y: spearmanr(x,y).correlation)\n",
    "\n",
    "def eval_sl(model):\n",
    "    return evaluate_ws(model, simlex, metric=lambda x,y: spearmanr(x,y).correlation)\n",
    "\n",
    "def eval_rt(model):\n",
    "    return evaluate_ws(model, rt, metric=lambda x,y: roc_auc_score(x,y)*2-1)\n",
    "\n",
    "def eval_ae(model):\n",
    "    return evaluate_ws(model, ae2, metric=lambda x,y: roc_auc_score(x,y)*2-1)"
   ]
  },
  {
   "cell_type": "code",
   "execution_count": 9,
   "metadata": {},
   "outputs": [],
   "source": []
  },
  {
   "cell_type": "code",
   "execution_count": 124,
   "metadata": {},
   "outputs": [],
   "source": [
    "import time\n",
    "\n",
    "small_vocab = list(vocabulary_from_files('../data/toy_corpora/').keys())\n",
    "\n",
    "def time_per_word(model, vocab=small_vocab, runs=10):\n",
    "    t = time.time()\n",
    "    for r in range(runs):\n",
    "        for w in vocab:\n",
    "            emb = model[w]\n",
    "    td = time.time() - t\n",
    "    return td / len(vocab) / runs"
   ]
  },
  {
   "cell_type": "code",
   "execution_count": 11,
   "metadata": {},
   "outputs": [],
   "source": [
    "big_ft = gensim.models.fasttext.FastTextKeyedVectors.load(original_path)\n",
    "big_ft.adjust_vectors()"
   ]
  },
  {
   "cell_type": "code",
   "execution_count": 98,
   "metadata": {},
   "outputs": [],
   "source": [
    "from compress_fasttext.evaluation import vecs_similarity"
   ]
  },
  {
   "cell_type": "code",
   "execution_count": 134,
   "metadata": {},
   "outputs": [],
   "source": [
    "from pymorphy2 import MorphAnalyzer\n",
    "morphAnalyzer = MorphAnalyzer()\n",
    "\n",
    "def w2lemma(w):\n",
    "    parsed = morphAnalyzer.parse(w)\n",
    "    if not parsed:\n",
    "        return w\n",
    "    nf = parsed[0].normal_form.replace('ё', 'е')\n",
    "    return nf or w"
   ]
  },
  {
   "cell_type": "code",
   "execution_count": 135,
   "metadata": {},
   "outputs": [],
   "source": [
    "small_vocab_lemmas = list({w2lemma(w) for w in small_vocab})"
   ]
  },
  {
   "cell_type": "code",
   "execution_count": 142,
   "metadata": {},
   "outputs": [],
   "source": [
    "def load_words(fn):\n",
    "    with open(fn, 'r', encoding='utf-8') as f:\n",
    "        return [w.strip() for w in f.readlines()]"
   ]
  },
  {
   "cell_type": "code",
   "execution_count": 144,
   "metadata": {},
   "outputs": [],
   "source": [
    "taiga_in = load_words('../data/model_vocab/taiga_social_in_vocab.txt')\n",
    "taiga_out = load_words('../data/model_vocab/taiga_social_out_of_vocab.txt')\n",
    "taiga_all = taiga_in + taiga_out"
   ]
  },
  {
   "cell_type": "code",
   "execution_count": 157,
   "metadata": {},
   "outputs": [],
   "source": [
    "import time\n",
    "\n",
    "def time_per_word(model, vocab=taiga_all, runs=1):\n",
    "    t = time.time()\n",
    "    for r in range(runs):\n",
    "        for w in vocab:\n",
    "            emb = model[w]\n",
    "    td = time.time() - t\n",
    "    return td / len(vocab) / runs"
   ]
  },
  {
   "cell_type": "code",
   "execution_count": 136,
   "metadata": {},
   "outputs": [],
   "source": [
    "cossim_raw = lambda model: vecs_similarity(big_ft, model, small_vocab)\n",
    "cossim_lemma = lambda model: vecs_similarity(big_ft, model, small_vocab_lemmas)"
   ]
  },
  {
   "cell_type": "code",
   "execution_count": 158,
   "metadata": {},
   "outputs": [],
   "source": [
    "def evaluate_all(model):\n",
    "    result = {\n",
    "        'time': time_per_word(model),\n",
    "        'hj': eval_hj(model),\n",
    "        'ae': eval_ae(model),\n",
    "        'rt': eval_rt(model),\n",
    "        'sl': eval_sl(model),\n",
    "        'ram': mb(model),\n",
    "        'cs_raw': cossim_raw(model),\n",
    "        'cs_lemma': cossim_lemma(model),\n",
    "        'cs_all': vecs_similarity(big_ft, model, taiga_all),\n",
    "        'cs_in': vecs_similarity(big_ft, model, taiga_in),\n",
    "        'cs_out': vecs_similarity(big_ft, model, taiga_out),\n",
    "    }\n",
    "    return result"
   ]
  },
  {
   "cell_type": "code",
   "execution_count": 161,
   "metadata": {},
   "outputs": [
    {
     "data": {
      "text/plain": [
       "{'time': 7.954563707370537e-05,\n",
       " 'hj': 0.666836541489121,\n",
       " 'ae': 0.8251780625041887,\n",
       " 'rt': 0.722727176198263,\n",
       " 'sl': 0.33173090831758584,\n",
       " 'ram': 2723.8586988449097,\n",
       " 'cs_raw': 0.9999999998682989,\n",
       " 'cs_lemma': 0.9999999984703485,\n",
       " 'cs_all': 0.9999999997035213,\n",
       " 'cs_in': 0.9999999999104886,\n",
       " 'cs_out': 0.9999999992787422,\n",
       " 'tpw': 5.626038647139459e-05}"
      ]
     },
     "execution_count": 161,
     "metadata": {},
     "output_type": "execute_result"
    }
   ],
   "source": [
    "evaluate_all(big_ft)"
   ]
  },
  {
   "cell_type": "code",
   "execution_count": 159,
   "metadata": {},
   "outputs": [
    {
     "data": {
      "text/plain": [
       "{'time': 0.0007173205173673311,\n",
       " 'hj': 0.6434756391067323,\n",
       " 'ae': 0.7941962742138151,\n",
       " 'rt': 0.6986646878804668,\n",
       " 'sl': 0.3228528639335229,\n",
       " 'ram': 28.393406867980957,\n",
       " 'cs_raw': 0.9666984405828691,\n",
       " 'cs_lemma': 0.9691338860611208,\n",
       " 'cs_all': 0.9615299586447199,\n",
       " 'cs_in': 0.9638957046495806,\n",
       " 'cs_out': 0.9566745147706934,\n",
       " 'tpw': 0.0005215796782408759}"
      ]
     },
     "execution_count": 159,
     "metadata": {},
     "output_type": "execute_result"
    }
   ],
   "source": [
    "evaluate_all(gensim.models.fasttext.FastTextKeyedVectors.load(exp_path + 'ft_freqprune_100K_20K_pq_100.bin'))"
   ]
  },
  {
   "cell_type": "code",
   "execution_count": 162,
   "metadata": {},
   "outputs": [
    {
     "data": {
      "text/plain": [
       "0.9667892926371568"
      ]
     },
     "execution_count": 162,
     "metadata": {},
     "output_type": "execute_result"
    }
   ],
   "source": [
    "((0.6434/0.6668) + (0.7941/0.8251) + (0.6986/0.7227) + (0.3228/ 0.3317)) / 4"
   ]
  },
  {
   "cell_type": "markdown",
   "metadata": {},
   "source": [
    "## ещё немножко аналитики"
   ]
  },
  {
   "cell_type": "code",
   "execution_count": 18,
   "metadata": {},
   "outputs": [],
   "source": [
    "import numpy as np"
   ]
  },
  {
   "cell_type": "code",
   "execution_count": 137,
   "metadata": {},
   "outputs": [
    {
     "name": "stdout",
     "output_type": "stream",
     "text": [
      "0.3494071146245059\n",
      "0.9634703196347032\n"
     ]
    }
   ],
   "source": [
    "print(np.mean([w in big_ft.vocab for w in small_vocab]))\n",
    "print(np.mean([w in big_ft.vocab for w in small_vocab_lemmas]))"
   ]
  },
  {
   "cell_type": "code",
   "execution_count": 139,
   "metadata": {},
   "outputs": [
    {
     "data": {
      "text/plain": [
       "1265"
      ]
     },
     "execution_count": 139,
     "metadata": {},
     "output_type": "execute_result"
    }
   ],
   "source": [
    "len(set(small_vocab))"
   ]
  },
  {
   "cell_type": "code",
   "execution_count": 140,
   "metadata": {},
   "outputs": [
    {
     "name": "stdout",
     "output_type": "stream",
     "text": [
      "451 0.9800443458980045\n",
      "8359 0.8906567771264505\n",
      "1057 0.9981078524124882\n",
      "2750 0.9570909090909091\n"
     ]
    }
   ],
   "source": [
    "for dataset in [hj, rt, simlex, ae2]:\n",
    "    v = set(dataset.word1).union(set(dataset.word2))\n",
    "    print(len(v), np.mean([w in big_ft.vocab for w in v]))"
   ]
  },
  {
   "cell_type": "markdown",
   "metadata": {},
   "source": [
    "## Разбираемся с `adjust_vectors`"
   ]
  },
  {
   "cell_type": "code",
   "execution_count": 21,
   "metadata": {},
   "outputs": [],
   "source": [
    "orig_ft = gensim.models.fasttext.FastTextKeyedVectors.load(original_path)"
   ]
  },
  {
   "cell_type": "code",
   "execution_count": 29,
   "metadata": {},
   "outputs": [],
   "source": [
    "e0 = evaluate_all(orig_ft)\n",
    "e1 = evaluate_all(big_ft)"
   ]
  },
  {
   "cell_type": "markdown",
   "metadata": {},
   "source": [
    "Грустный факт: после применения операции `adjust_vectors` (которая, теоретически, не должна аффектить ничего вообще!), перформанс на downstream задачках резко снижается. \n",
    "\n",
    "Значит: мне нужно обучить свой фасттекст. Который был бы достаточно свеж, достаточно хорош, и не ломался. "
   ]
  },
  {
   "cell_type": "code",
   "execution_count": 31,
   "metadata": {},
   "outputs": [
    {
     "data": {
      "text/html": [
       "<div>\n",
       "<style scoped>\n",
       "    .dataframe tbody tr th:only-of-type {\n",
       "        vertical-align: middle;\n",
       "    }\n",
       "\n",
       "    .dataframe tbody tr th {\n",
       "        vertical-align: top;\n",
       "    }\n",
       "\n",
       "    .dataframe thead th {\n",
       "        text-align: right;\n",
       "    }\n",
       "</style>\n",
       "<table border=\"1\" class=\"dataframe\">\n",
       "  <thead>\n",
       "    <tr style=\"text-align: right;\">\n",
       "      <th></th>\n",
       "      <th>time</th>\n",
       "      <th>hj</th>\n",
       "      <th>ae</th>\n",
       "      <th>rt</th>\n",
       "      <th>sl</th>\n",
       "      <th>ram</th>\n",
       "      <th>cs</th>\n",
       "      <th>tpw</th>\n",
       "    </tr>\n",
       "  </thead>\n",
       "  <tbody>\n",
       "    <tr>\n",
       "      <th>raw</th>\n",
       "      <td>0.000062</td>\n",
       "      <td>0.714388</td>\n",
       "      <td>0.910000</td>\n",
       "      <td>0.797292</td>\n",
       "      <td>0.394348</td>\n",
       "      <td>2723.858699</td>\n",
       "      <td>0.958159</td>\n",
       "      <td>0.000055</td>\n",
       "    </tr>\n",
       "    <tr>\n",
       "      <th>adjust</th>\n",
       "      <td>0.000044</td>\n",
       "      <td>0.666837</td>\n",
       "      <td>0.825178</td>\n",
       "      <td>0.722727</td>\n",
       "      <td>0.331731</td>\n",
       "      <td>2723.858699</td>\n",
       "      <td>1.000000</td>\n",
       "      <td>0.000040</td>\n",
       "    </tr>\n",
       "  </tbody>\n",
       "</table>\n",
       "</div>"
      ],
      "text/plain": [
       "            time        hj        ae        rt        sl          ram  \\\n",
       "raw     0.000062  0.714388  0.910000  0.797292  0.394348  2723.858699   \n",
       "adjust  0.000044  0.666837  0.825178  0.722727  0.331731  2723.858699   \n",
       "\n",
       "              cs       tpw  \n",
       "raw     0.958159  0.000055  \n",
       "adjust  1.000000  0.000040  "
      ]
     },
     "execution_count": 31,
     "metadata": {},
     "output_type": "execute_result"
    }
   ],
   "source": [
    "pd.DataFrame({'raw': e0, 'adjust': e1}).T"
   ]
  },
  {
   "cell_type": "markdown",
   "metadata": {},
   "source": [
    "# Оцениваем всё"
   ]
  },
  {
   "cell_type": "code",
   "execution_count": 44,
   "metadata": {},
   "outputs": [],
   "source": [
    "def ft_disk_size(path):\n",
    "    s = os.stat(path).st_size\n",
    "    dn = os.path.dirname(path)\n",
    "    bn = os.path.basename(path)\n",
    "    for fn in os.listdir(dn):\n",
    "        if fn.startswith(bn + '.'):\n",
    "            s += os.stat(os.path.join(dn,fn)).st_size\n",
    "    return s / 1024**2"
   ]
  },
  {
   "cell_type": "code",
   "execution_count": 163,
   "metadata": {},
   "outputs": [
    {
     "name": "stdout",
     "output_type": "stream",
     "text": [
      "ft_dimred_10.bin\n",
      "ft_dimred_100.bin\n",
      "ft_dimred_150.bin\n",
      "ft_dimred_25.bin\n",
      "ft_dimred_5.bin\n",
      "ft_dimred_50.bin\n",
      "ft_fp16.bin\n",
      "ft_fp16_ngrams.bin\n",
      "ft_fp16_words.bin\n",
      "ft_freqprune_100K_0K_pq_100.bin\n",
      "ft_freqprune_100K_0K_pq_300.bin\n",
      "ft_freqprune_100K_0K_pq_50.bin\n",
      "ft_freqprune_100K_100K_pq_100.bin\n",
      "ft_freqprune_100K_100K_pq_300.bin\n",
      "ft_freqprune_100K_100K_pq_50.bin\n",
      "ft_freqprune_100K_20K_pq_100.bin\n",
      "ft_freqprune_100K_20K_pq_300.bin\n",
      "ft_freqprune_100K_20K_pq_50.bin\n",
      "ft_freqprune_100K_5K_pq_100.bin\n",
      "ft_freqprune_100K_5K_pq_300.bin\n",
      "ft_freqprune_100K_5K_pq_50.bin\n",
      "ft_freqprune_400K_0K_pq_100.bin\n",
      "ft_freqprune_400K_0K_pq_300.bin\n",
      "ft_freqprune_400K_0K_pq_50.bin\n",
      "ft_freqprune_400K_100K_pq_100.bin\n",
      "ft_freqprune_400K_100K_pq_300.bin\n",
      "ft_freqprune_400K_100K_pq_50.bin\n",
      "ft_freqprune_400K_20K_pq_100.bin\n",
      "ft_freqprune_400K_20K_pq_300.bin\n",
      "ft_freqprune_400K_20K_pq_50.bin\n",
      "ft_freqprune_400K_5K_pq_100.bin\n",
      "ft_freqprune_400K_5K_pq_300.bin\n",
      "ft_freqprune_400K_5K_pq_50.bin\n",
      "ft_freqprune_50K_0K_pq_100.bin\n",
      "ft_freqprune_50K_0K_pq_300.bin\n",
      "ft_freqprune_50K_0K_pq_50.bin\n",
      "ft_freqprune_50K_100K_pq_100.bin\n",
      "ft_freqprune_50K_100K_pq_300.bin\n",
      "ft_freqprune_50K_100K_pq_50.bin\n",
      "ft_freqprune_50K_20K_pq_100.bin\n",
      "ft_freqprune_50K_20K_pq_300.bin\n",
      "ft_freqprune_50K_20K_pq_50.bin\n",
      "ft_freqprune_50K_5K_pq_100.bin\n",
      "ft_freqprune_50K_5K_pq_300.bin\n",
      "ft_freqprune_50K_5K_pq_50.bin\n",
      "ft_pq_10.bin\n",
      "ft_pq_100.bin\n",
      "ft_pq_150.bin\n",
      "ft_pq_25.bin\n",
      "ft_pq_300.bin\n",
      "ft_pq_5.bin\n",
      "ft_pq_50.bin\n",
      "ft_prune_freq_0.001.bin\n",
      "ft_prune_freq_0.002.bin\n",
      "ft_prune_freq_0.005.bin\n",
      "ft_prune_freq_0.01.bin\n",
      "ft_prune_freq_0.02.bin\n",
      "ft_prune_freq_0.05.bin\n",
      "ft_prune_freq_0.1.bin\n",
      "ft_prune_freq_0.2.bin\n",
      "ft_prune_freq_0.5.bin\n",
      "ft_prune_freq_1.0.bin\n",
      "ft_trim_0.001.bin\n",
      "ft_trim_0.002.bin\n",
      "ft_trim_0.005.bin\n",
      "ft_trim_0.01.bin\n",
      "ft_trim_0.02.bin\n",
      "ft_trim_0.05.bin\n",
      "ft_trim_0.1.bin\n",
      "ft_trim_0.2.bin\n",
      "ft_trim_0.5.bin\n",
      "ft_trim_1.0.bin\n"
     ]
    }
   ],
   "source": [
    "all_metrics = {}\n",
    "\n",
    "for fn in os.listdir(exp_path):\n",
    "    if not fn.endswith('bin'): continue\n",
    "    print(fn)\n",
    "    the_model = gensim.models.fasttext.FastTextKeyedVectors.load(exp_path + fn)\n",
    "    gc.collect()\n",
    "    the_metrics = evaluate_all(the_model)\n",
    "    the_metrics['disk'] = ft_disk_size(exp_path + fn)\n",
    "    all_metrics[fn] = the_metrics"
   ]
  },
  {
   "cell_type": "code",
   "execution_count": 164,
   "metadata": {},
   "outputs": [],
   "source": [
    "orig_metrics = evaluate_all(big_ft)\n",
    "orig_metrics['disk'] = ft_disk_size(original_path)\n",
    "all_metrics['original'] = orig_metrics"
   ]
  },
  {
   "cell_type": "code",
   "execution_count": 165,
   "metadata": {},
   "outputs": [],
   "source": [
    "import re\n",
    "\n",
    "def name2type(text):\n",
    "    if text == 'original': \n",
    "        return 'original'\n",
    "    if text == 'ft_fp16.bin': \n",
    "        return 'original fp16'\n",
    "    if text == 'ft_fp16_words.bin': \n",
    "        return 'original fp16_w/o ngrams'\n",
    "    if text == 'ft_fp16_ngrams.bin': \n",
    "        return 'original fp16 w/o words'\n",
    "    if re.match('ft_dimred_\\d+.bin', text):\n",
    "        return 'decomposition'\n",
    "    if re.match('ft_pq_\\d+.bin', text):\n",
    "        return 'pq'\n",
    "    if re.match('ft_trim_[\\d\\.]+.bin', text):\n",
    "        return 'prune hash'\n",
    "    if re.match('ft_prune_freq_[\\d\\.]+.bin', text):\n",
    "        return 'prune by freq'\n",
    "    if re.match('ft_freqprune_\\d+K_\\d+K_pq_\\d+.bin', text):\n",
    "        return 'prune by freq + pq'\n",
    "    return '-'"
   ]
  },
  {
   "cell_type": "code",
   "execution_count": 166,
   "metadata": {},
   "outputs": [
    {
     "data": {
      "text/html": [
       "<div>\n",
       "<style scoped>\n",
       "    .dataframe tbody tr th:only-of-type {\n",
       "        vertical-align: middle;\n",
       "    }\n",
       "\n",
       "    .dataframe tbody tr th {\n",
       "        vertical-align: top;\n",
       "    }\n",
       "\n",
       "    .dataframe thead th {\n",
       "        text-align: right;\n",
       "    }\n",
       "</style>\n",
       "<table border=\"1\" class=\"dataframe\">\n",
       "  <thead>\n",
       "    <tr style=\"text-align: right;\">\n",
       "      <th></th>\n",
       "      <th>time</th>\n",
       "      <th>hj</th>\n",
       "      <th>ae</th>\n",
       "      <th>rt</th>\n",
       "      <th>sl</th>\n",
       "      <th>ram</th>\n",
       "      <th>cs_raw</th>\n",
       "      <th>cs_lemma</th>\n",
       "      <th>cs_all</th>\n",
       "      <th>cs_in</th>\n",
       "      <th>cs_out</th>\n",
       "      <th>tpw</th>\n",
       "      <th>disk</th>\n",
       "      <th>compression</th>\n",
       "    </tr>\n",
       "  </thead>\n",
       "  <tbody>\n",
       "    <tr>\n",
       "      <th>ft_dimred_10.bin</th>\n",
       "      <td>0.000063</td>\n",
       "      <td>0.306962</td>\n",
       "      <td>0.569504</td>\n",
       "      <td>0.468071</td>\n",
       "      <td>0.072610</td>\n",
       "      <td>83.163209</td>\n",
       "      <td>0.555598</td>\n",
       "      <td>0.543999</td>\n",
       "      <td>0.596796</td>\n",
       "      <td>0.607247</td>\n",
       "      <td>0.575344</td>\n",
       "      <td>0.000103</td>\n",
       "      <td>71.563974</td>\n",
       "      <td>decomposition</td>\n",
       "    </tr>\n",
       "    <tr>\n",
       "      <th>ft_dimred_100.bin</th>\n",
       "      <td>0.000613</td>\n",
       "      <td>0.612102</td>\n",
       "      <td>0.818748</td>\n",
       "      <td>0.714748</td>\n",
       "      <td>0.264181</td>\n",
       "      <td>455.015397</td>\n",
       "      <td>0.828024</td>\n",
       "      <td>0.814135</td>\n",
       "      <td>0.869100</td>\n",
       "      <td>0.870880</td>\n",
       "      <td>0.865447</td>\n",
       "      <td>0.000644</td>\n",
       "      <td>625.267717</td>\n",
       "      <td>decomposition</td>\n",
       "    </tr>\n",
       "    <tr>\n",
       "      <th>ft_dimred_150.bin</th>\n",
       "      <td>0.000689</td>\n",
       "      <td>0.632550</td>\n",
       "      <td>0.826107</td>\n",
       "      <td>0.720873</td>\n",
       "      <td>0.294689</td>\n",
       "      <td>661.599946</td>\n",
       "      <td>0.885716</td>\n",
       "      <td>0.875845</td>\n",
       "      <td>0.917609</td>\n",
       "      <td>0.919589</td>\n",
       "      <td>0.913547</td>\n",
       "      <td>0.000763</td>\n",
       "      <td>932.830118</td>\n",
       "      <td>decomposition</td>\n",
       "    </tr>\n",
       "    <tr>\n",
       "      <th>ft_dimred_25.bin</th>\n",
       "      <td>0.000119</td>\n",
       "      <td>0.491934</td>\n",
       "      <td>0.721918</td>\n",
       "      <td>0.624718</td>\n",
       "      <td>0.156860</td>\n",
       "      <td>145.138574</td>\n",
       "      <td>0.661142</td>\n",
       "      <td>0.641210</td>\n",
       "      <td>0.708316</td>\n",
       "      <td>0.711149</td>\n",
       "      <td>0.702501</td>\n",
       "      <td>0.000049</td>\n",
       "      <td>163.863709</td>\n",
       "      <td>decomposition</td>\n",
       "    </tr>\n",
       "    <tr>\n",
       "      <th>ft_dimred_5.bin</th>\n",
       "      <td>0.000042</td>\n",
       "      <td>0.172029</td>\n",
       "      <td>0.395707</td>\n",
       "      <td>0.253708</td>\n",
       "      <td>0.026473</td>\n",
       "      <td>62.504754</td>\n",
       "      <td>0.464332</td>\n",
       "      <td>0.482884</td>\n",
       "      <td>0.505450</td>\n",
       "      <td>0.532352</td>\n",
       "      <td>0.450235</td>\n",
       "      <td>0.000044</td>\n",
       "      <td>40.824168</td>\n",
       "      <td>decomposition</td>\n",
       "    </tr>\n",
       "    <tr>\n",
       "      <th>...</th>\n",
       "      <td>...</td>\n",
       "      <td>...</td>\n",
       "      <td>...</td>\n",
       "      <td>...</td>\n",
       "      <td>...</td>\n",
       "      <td>...</td>\n",
       "      <td>...</td>\n",
       "      <td>...</td>\n",
       "      <td>...</td>\n",
       "      <td>...</td>\n",
       "      <td>...</td>\n",
       "      <td>...</td>\n",
       "      <td>...</td>\n",
       "      <td>...</td>\n",
       "    </tr>\n",
       "    <tr>\n",
       "      <th>ft_trim_0.1.bin</th>\n",
       "      <td>0.000084</td>\n",
       "      <td>0.649073</td>\n",
       "      <td>0.798211</td>\n",
       "      <td>0.697014</td>\n",
       "      <td>0.325257</td>\n",
       "      <td>128.473850</td>\n",
       "      <td>0.963520</td>\n",
       "      <td>0.984084</td>\n",
       "      <td>0.952722</td>\n",
       "      <td>0.965373</td>\n",
       "      <td>0.926757</td>\n",
       "      <td>0.000091</td>\n",
       "      <td>129.556684</td>\n",
       "      <td>prune hash</td>\n",
       "    </tr>\n",
       "    <tr>\n",
       "      <th>ft_trim_0.2.bin</th>\n",
       "      <td>0.000078</td>\n",
       "      <td>0.663168</td>\n",
       "      <td>0.816040</td>\n",
       "      <td>0.717777</td>\n",
       "      <td>0.331474</td>\n",
       "      <td>257.071957</td>\n",
       "      <td>0.983515</td>\n",
       "      <td>0.993900</td>\n",
       "      <td>0.978646</td>\n",
       "      <td>0.988492</td>\n",
       "      <td>0.958438</td>\n",
       "      <td>0.000053</td>\n",
       "      <td>259.133737</td>\n",
       "      <td>prune hash</td>\n",
       "    </tr>\n",
       "    <tr>\n",
       "      <th>ft_trim_0.5.bin</th>\n",
       "      <td>0.000035</td>\n",
       "      <td>0.666709</td>\n",
       "      <td>0.824082</td>\n",
       "      <td>0.722336</td>\n",
       "      <td>0.331414</td>\n",
       "      <td>640.818283</td>\n",
       "      <td>0.996115</td>\n",
       "      <td>0.995518</td>\n",
       "      <td>0.994969</td>\n",
       "      <td>0.999022</td>\n",
       "      <td>0.986650</td>\n",
       "      <td>0.000034</td>\n",
       "      <td>624.438000</td>\n",
       "      <td>prune hash</td>\n",
       "    </tr>\n",
       "    <tr>\n",
       "      <th>ft_trim_1.0.bin</th>\n",
       "      <td>0.000026</td>\n",
       "      <td>0.667127</td>\n",
       "      <td>0.825072</td>\n",
       "      <td>0.722737</td>\n",
       "      <td>0.331730</td>\n",
       "      <td>1280.666779</td>\n",
       "      <td>0.999661</td>\n",
       "      <td>0.996586</td>\n",
       "      <td>0.998985</td>\n",
       "      <td>1.000000</td>\n",
       "      <td>0.996901</td>\n",
       "      <td>0.000027</td>\n",
       "      <td>1248.998929</td>\n",
       "      <td>prune hash</td>\n",
       "    </tr>\n",
       "    <tr>\n",
       "      <th>original</th>\n",
       "      <td>0.000023</td>\n",
       "      <td>0.666837</td>\n",
       "      <td>0.825178</td>\n",
       "      <td>0.722727</td>\n",
       "      <td>0.331731</td>\n",
       "      <td>2723.858699</td>\n",
       "      <td>1.000000</td>\n",
       "      <td>1.000000</td>\n",
       "      <td>1.000000</td>\n",
       "      <td>1.000000</td>\n",
       "      <td>1.000000</td>\n",
       "      <td>0.000018</td>\n",
       "      <td>2679.317280</td>\n",
       "      <td>original</td>\n",
       "    </tr>\n",
       "  </tbody>\n",
       "</table>\n",
       "<p>73 rows × 14 columns</p>\n",
       "</div>"
      ],
      "text/plain": [
       "                       time        hj        ae        rt        sl  \\\n",
       "ft_dimred_10.bin   0.000063  0.306962  0.569504  0.468071  0.072610   \n",
       "ft_dimred_100.bin  0.000613  0.612102  0.818748  0.714748  0.264181   \n",
       "ft_dimred_150.bin  0.000689  0.632550  0.826107  0.720873  0.294689   \n",
       "ft_dimred_25.bin   0.000119  0.491934  0.721918  0.624718  0.156860   \n",
       "ft_dimred_5.bin    0.000042  0.172029  0.395707  0.253708  0.026473   \n",
       "...                     ...       ...       ...       ...       ...   \n",
       "ft_trim_0.1.bin    0.000084  0.649073  0.798211  0.697014  0.325257   \n",
       "ft_trim_0.2.bin    0.000078  0.663168  0.816040  0.717777  0.331474   \n",
       "ft_trim_0.5.bin    0.000035  0.666709  0.824082  0.722336  0.331414   \n",
       "ft_trim_1.0.bin    0.000026  0.667127  0.825072  0.722737  0.331730   \n",
       "original           0.000023  0.666837  0.825178  0.722727  0.331731   \n",
       "\n",
       "                           ram    cs_raw  cs_lemma    cs_all     cs_in  \\\n",
       "ft_dimred_10.bin     83.163209  0.555598  0.543999  0.596796  0.607247   \n",
       "ft_dimred_100.bin   455.015397  0.828024  0.814135  0.869100  0.870880   \n",
       "ft_dimred_150.bin   661.599946  0.885716  0.875845  0.917609  0.919589   \n",
       "ft_dimred_25.bin    145.138574  0.661142  0.641210  0.708316  0.711149   \n",
       "ft_dimred_5.bin      62.504754  0.464332  0.482884  0.505450  0.532352   \n",
       "...                        ...       ...       ...       ...       ...   \n",
       "ft_trim_0.1.bin     128.473850  0.963520  0.984084  0.952722  0.965373   \n",
       "ft_trim_0.2.bin     257.071957  0.983515  0.993900  0.978646  0.988492   \n",
       "ft_trim_0.5.bin     640.818283  0.996115  0.995518  0.994969  0.999022   \n",
       "ft_trim_1.0.bin    1280.666779  0.999661  0.996586  0.998985  1.000000   \n",
       "original           2723.858699  1.000000  1.000000  1.000000  1.000000   \n",
       "\n",
       "                     cs_out       tpw         disk    compression  \n",
       "ft_dimred_10.bin   0.575344  0.000103    71.563974  decomposition  \n",
       "ft_dimred_100.bin  0.865447  0.000644   625.267717  decomposition  \n",
       "ft_dimred_150.bin  0.913547  0.000763   932.830118  decomposition  \n",
       "ft_dimred_25.bin   0.702501  0.000049   163.863709  decomposition  \n",
       "ft_dimred_5.bin    0.450235  0.000044    40.824168  decomposition  \n",
       "...                     ...       ...          ...            ...  \n",
       "ft_trim_0.1.bin    0.926757  0.000091   129.556684     prune hash  \n",
       "ft_trim_0.2.bin    0.958438  0.000053   259.133737     prune hash  \n",
       "ft_trim_0.5.bin    0.986650  0.000034   624.438000     prune hash  \n",
       "ft_trim_1.0.bin    0.996901  0.000027  1248.998929     prune hash  \n",
       "original           1.000000  0.000018  2679.317280       original  \n",
       "\n",
       "[73 rows x 14 columns]"
      ]
     },
     "execution_count": 166,
     "metadata": {},
     "output_type": "execute_result"
    }
   ],
   "source": [
    "metrics_df = pd.DataFrame(all_metrics).T\n",
    "metrics_df['compression'] = [name2type(name) for name in metrics_df.index]\n",
    "metrics_df"
   ]
  },
  {
   "cell_type": "code",
   "execution_count": 170,
   "metadata": {},
   "outputs": [
    {
     "data": {
      "text/plain": [
       "prune by freq + pq          36\n",
       "prune hash                  10\n",
       "prune by freq               10\n",
       "pq                           7\n",
       "decomposition                6\n",
       "original                     1\n",
       "original fp16                1\n",
       "original fp16 w/o words      1\n",
       "original fp16_w/o ngrams     1\n",
       "Name: compression, dtype: int64"
      ]
     },
     "execution_count": 170,
     "metadata": {},
     "output_type": "execute_result"
    }
   ],
   "source": [
    "metrics_df.compression.value_counts()"
   ]
  },
  {
   "cell_type": "code",
   "execution_count": 352,
   "metadata": {},
   "outputs": [
    {
     "data": {
      "text/html": [
       "<div>\n",
       "<style scoped>\n",
       "    .dataframe tbody tr th:only-of-type {\n",
       "        vertical-align: middle;\n",
       "    }\n",
       "\n",
       "    .dataframe tbody tr th {\n",
       "        vertical-align: top;\n",
       "    }\n",
       "\n",
       "    .dataframe thead th {\n",
       "        text-align: right;\n",
       "    }\n",
       "</style>\n",
       "<table border=\"1\" class=\"dataframe\">\n",
       "  <thead>\n",
       "    <tr style=\"text-align: right;\">\n",
       "      <th></th>\n",
       "      <th>time</th>\n",
       "      <th>hj</th>\n",
       "      <th>ae</th>\n",
       "      <th>rt</th>\n",
       "      <th>sl</th>\n",
       "      <th>ram</th>\n",
       "      <th>cs_raw</th>\n",
       "      <th>cs_lemma</th>\n",
       "      <th>cs_all</th>\n",
       "      <th>cs_in</th>\n",
       "      <th>cs_out</th>\n",
       "      <th>tpw</th>\n",
       "      <th>disk</th>\n",
       "      <th>compression</th>\n",
       "      <th>ie_rel</th>\n",
       "    </tr>\n",
       "  </thead>\n",
       "  <tbody>\n",
       "    <tr>\n",
       "      <th>ft_prune_freq_0.001.bin</th>\n",
       "      <td>0.000154</td>\n",
       "      <td>0.042261</td>\n",
       "      <td>-0.000489</td>\n",
       "      <td>0.315085</td>\n",
       "      <td>0.084932</td>\n",
       "      <td>0.445371</td>\n",
       "      <td>0.359854</td>\n",
       "      <td>0.422390</td>\n",
       "      <td>0.438779</td>\n",
       "      <td>0.449998</td>\n",
       "      <td>0.415753</td>\n",
       "      <td>0.000089</td>\n",
       "      <td>0.577118</td>\n",
       "      <td>prune by freq</td>\n",
       "      <td>0.188644</td>\n",
       "    </tr>\n",
       "    <tr>\n",
       "      <th>ft_prune_freq_0.002.bin</th>\n",
       "      <td>0.000090</td>\n",
       "      <td>0.083426</td>\n",
       "      <td>0.006789</td>\n",
       "      <td>0.326339</td>\n",
       "      <td>0.116965</td>\n",
       "      <td>0.892259</td>\n",
       "      <td>0.460157</td>\n",
       "      <td>0.519732</td>\n",
       "      <td>0.512953</td>\n",
       "      <td>0.517642</td>\n",
       "      <td>0.503327</td>\n",
       "      <td>0.000090</td>\n",
       "      <td>1.155890</td>\n",
       "      <td>prune by freq</td>\n",
       "      <td>0.234292</td>\n",
       "    </tr>\n",
       "    <tr>\n",
       "      <th>ft_prune_freq_0.005.bin</th>\n",
       "      <td>0.000099</td>\n",
       "      <td>0.163620</td>\n",
       "      <td>0.094682</td>\n",
       "      <td>0.366317</td>\n",
       "      <td>0.129508</td>\n",
       "      <td>2.280522</td>\n",
       "      <td>0.578735</td>\n",
       "      <td>0.638897</td>\n",
       "      <td>0.609398</td>\n",
       "      <td>0.607063</td>\n",
       "      <td>0.614191</td>\n",
       "      <td>0.000091</td>\n",
       "      <td>2.892029</td>\n",
       "      <td>prune by freq</td>\n",
       "      <td>0.314208</td>\n",
       "    </tr>\n",
       "    <tr>\n",
       "      <th>ft_prune_freq_0.01.bin</th>\n",
       "      <td>0.000091</td>\n",
       "      <td>0.300497</td>\n",
       "      <td>0.219187</td>\n",
       "      <td>0.405124</td>\n",
       "      <td>0.149695</td>\n",
       "      <td>4.568181</td>\n",
       "      <td>0.664091</td>\n",
       "      <td>0.751320</td>\n",
       "      <td>0.684610</td>\n",
       "      <td>0.679859</td>\n",
       "      <td>0.694360</td>\n",
       "      <td>0.000128</td>\n",
       "      <td>5.787065</td>\n",
       "      <td>prune by freq</td>\n",
       "      <td>0.431789</td>\n",
       "    </tr>\n",
       "    <tr>\n",
       "      <th>ft_prune_freq_0.02.bin</th>\n",
       "      <td>0.000131</td>\n",
       "      <td>0.441979</td>\n",
       "      <td>0.439137</td>\n",
       "      <td>0.477894</td>\n",
       "      <td>0.190818</td>\n",
       "      <td>9.142873</td>\n",
       "      <td>0.768629</td>\n",
       "      <td>0.845656</td>\n",
       "      <td>0.766493</td>\n",
       "      <td>0.762360</td>\n",
       "      <td>0.774974</td>\n",
       "      <td>0.000092</td>\n",
       "      <td>11.575442</td>\n",
       "      <td>prune by freq</td>\n",
       "      <td>0.607499</td>\n",
       "    </tr>\n",
       "    <tr>\n",
       "      <th>ft_prune_freq_0.05.bin</th>\n",
       "      <td>0.000089</td>\n",
       "      <td>0.576663</td>\n",
       "      <td>0.687602</td>\n",
       "      <td>0.588766</td>\n",
       "      <td>0.288918</td>\n",
       "      <td>22.656610</td>\n",
       "      <td>0.887248</td>\n",
       "      <td>0.937659</td>\n",
       "      <td>0.871380</td>\n",
       "      <td>0.872023</td>\n",
       "      <td>0.870059</td>\n",
       "      <td>0.000091</td>\n",
       "      <td>28.938190</td>\n",
       "      <td>prune by freq</td>\n",
       "      <td>0.845394</td>\n",
       "    </tr>\n",
       "    <tr>\n",
       "      <th>ft_prune_freq_0.1.bin</th>\n",
       "      <td>0.000078</td>\n",
       "      <td>0.627669</td>\n",
       "      <td>0.772888</td>\n",
       "      <td>0.667985</td>\n",
       "      <td>0.323734</td>\n",
       "      <td>45.444650</td>\n",
       "      <td>0.951612</td>\n",
       "      <td>0.976750</td>\n",
       "      <td>0.936016</td>\n",
       "      <td>0.940549</td>\n",
       "      <td>0.926712</td>\n",
       "      <td>0.000108</td>\n",
       "      <td>57.872791</td>\n",
       "      <td>prune by freq</td>\n",
       "      <td>0.943938</td>\n",
       "    </tr>\n",
       "    <tr>\n",
       "      <th>ft_prune_freq_0.2.bin</th>\n",
       "      <td>0.000088</td>\n",
       "      <td>0.663341</td>\n",
       "      <td>0.809064</td>\n",
       "      <td>0.710039</td>\n",
       "      <td>0.331692</td>\n",
       "      <td>91.021409</td>\n",
       "      <td>0.984796</td>\n",
       "      <td>0.991308</td>\n",
       "      <td>0.977369</td>\n",
       "      <td>0.982679</td>\n",
       "      <td>0.966473</td>\n",
       "      <td>0.000064</td>\n",
       "      <td>115.729861</td>\n",
       "      <td>prune by freq</td>\n",
       "      <td>0.988789</td>\n",
       "    </tr>\n",
       "    <tr>\n",
       "      <th>ft_prune_freq_0.5.bin</th>\n",
       "      <td>0.000040</td>\n",
       "      <td>0.666845</td>\n",
       "      <td>0.822054</td>\n",
       "      <td>0.721300</td>\n",
       "      <td>0.331824</td>\n",
       "      <td>224.453115</td>\n",
       "      <td>0.997907</td>\n",
       "      <td>0.995327</td>\n",
       "      <td>0.996012</td>\n",
       "      <td>0.998813</td>\n",
       "      <td>0.990263</td>\n",
       "      <td>0.000043</td>\n",
       "      <td>242.121881</td>\n",
       "      <td>prune by freq</td>\n",
       "      <td>0.998027</td>\n",
       "    </tr>\n",
       "    <tr>\n",
       "      <th>ft_prune_freq_1.0.bin</th>\n",
       "      <td>0.000031</td>\n",
       "      <td>0.667182</td>\n",
       "      <td>0.825082</td>\n",
       "      <td>0.722740</td>\n",
       "      <td>0.331731</td>\n",
       "      <td>447.943208</td>\n",
       "      <td>0.999661</td>\n",
       "      <td>0.996574</td>\n",
       "      <td>0.999030</td>\n",
       "      <td>1.000000</td>\n",
       "      <td>0.997040</td>\n",
       "      <td>0.000030</td>\n",
       "      <td>484.452763</td>\n",
       "      <td>prune by freq</td>\n",
       "      <td>0.999498</td>\n",
       "    </tr>\n",
       "  </tbody>\n",
       "</table>\n",
       "</div>"
      ],
      "text/plain": [
       "                             time        hj        ae        rt        sl  \\\n",
       "ft_prune_freq_0.001.bin  0.000154  0.042261 -0.000489  0.315085  0.084932   \n",
       "ft_prune_freq_0.002.bin  0.000090  0.083426  0.006789  0.326339  0.116965   \n",
       "ft_prune_freq_0.005.bin  0.000099  0.163620  0.094682  0.366317  0.129508   \n",
       "ft_prune_freq_0.01.bin   0.000091  0.300497  0.219187  0.405124  0.149695   \n",
       "ft_prune_freq_0.02.bin   0.000131  0.441979  0.439137  0.477894  0.190818   \n",
       "ft_prune_freq_0.05.bin   0.000089  0.576663  0.687602  0.588766  0.288918   \n",
       "ft_prune_freq_0.1.bin    0.000078  0.627669  0.772888  0.667985  0.323734   \n",
       "ft_prune_freq_0.2.bin    0.000088  0.663341  0.809064  0.710039  0.331692   \n",
       "ft_prune_freq_0.5.bin    0.000040  0.666845  0.822054  0.721300  0.331824   \n",
       "ft_prune_freq_1.0.bin    0.000031  0.667182  0.825082  0.722740  0.331731   \n",
       "\n",
       "                                ram    cs_raw  cs_lemma    cs_all     cs_in  \\\n",
       "ft_prune_freq_0.001.bin    0.445371  0.359854  0.422390  0.438779  0.449998   \n",
       "ft_prune_freq_0.002.bin    0.892259  0.460157  0.519732  0.512953  0.517642   \n",
       "ft_prune_freq_0.005.bin    2.280522  0.578735  0.638897  0.609398  0.607063   \n",
       "ft_prune_freq_0.01.bin     4.568181  0.664091  0.751320  0.684610  0.679859   \n",
       "ft_prune_freq_0.02.bin     9.142873  0.768629  0.845656  0.766493  0.762360   \n",
       "ft_prune_freq_0.05.bin    22.656610  0.887248  0.937659  0.871380  0.872023   \n",
       "ft_prune_freq_0.1.bin     45.444650  0.951612  0.976750  0.936016  0.940549   \n",
       "ft_prune_freq_0.2.bin     91.021409  0.984796  0.991308  0.977369  0.982679   \n",
       "ft_prune_freq_0.5.bin    224.453115  0.997907  0.995327  0.996012  0.998813   \n",
       "ft_prune_freq_1.0.bin    447.943208  0.999661  0.996574  0.999030  1.000000   \n",
       "\n",
       "                           cs_out       tpw        disk    compression  \\\n",
       "ft_prune_freq_0.001.bin  0.415753  0.000089    0.577118  prune by freq   \n",
       "ft_prune_freq_0.002.bin  0.503327  0.000090    1.155890  prune by freq   \n",
       "ft_prune_freq_0.005.bin  0.614191  0.000091    2.892029  prune by freq   \n",
       "ft_prune_freq_0.01.bin   0.694360  0.000128    5.787065  prune by freq   \n",
       "ft_prune_freq_0.02.bin   0.774974  0.000092   11.575442  prune by freq   \n",
       "ft_prune_freq_0.05.bin   0.870059  0.000091   28.938190  prune by freq   \n",
       "ft_prune_freq_0.1.bin    0.926712  0.000108   57.872791  prune by freq   \n",
       "ft_prune_freq_0.2.bin    0.966473  0.000064  115.729861  prune by freq   \n",
       "ft_prune_freq_0.5.bin    0.990263  0.000043  242.121881  prune by freq   \n",
       "ft_prune_freq_1.0.bin    0.997040  0.000030  484.452763  prune by freq   \n",
       "\n",
       "                           ie_rel  \n",
       "ft_prune_freq_0.001.bin  0.188644  \n",
       "ft_prune_freq_0.002.bin  0.234292  \n",
       "ft_prune_freq_0.005.bin  0.314208  \n",
       "ft_prune_freq_0.01.bin   0.431789  \n",
       "ft_prune_freq_0.02.bin   0.607499  \n",
       "ft_prune_freq_0.05.bin   0.845394  \n",
       "ft_prune_freq_0.1.bin    0.943938  \n",
       "ft_prune_freq_0.2.bin    0.988789  \n",
       "ft_prune_freq_0.5.bin    0.998027  \n",
       "ft_prune_freq_1.0.bin    0.999498  "
      ]
     },
     "execution_count": 352,
     "metadata": {},
     "output_type": "execute_result"
    }
   ],
   "source": [
    "metrics_df[metrics_df.compression=='prune by freq']"
   ]
  },
  {
   "cell_type": "code",
   "execution_count": 323,
   "metadata": {},
   "outputs": [],
   "source": [
    "metrics_df['ie_rel'] = np.mean([metrics_df[m] / metrics_df[m].max() for m in ['hj', 'sl', 'rt', 'ae']], axis=0) "
   ]
  },
  {
   "cell_type": "code",
   "execution_count": 324,
   "metadata": {},
   "outputs": [],
   "source": [
    "metrics_df.to_pickle('metrics.pkl')"
   ]
  },
  {
   "cell_type": "code",
   "execution_count": 354,
   "metadata": {},
   "outputs": [],
   "source": [
    "metrics_df.to_csv('metrics.tsv')"
   ]
  },
  {
   "cell_type": "markdown",
   "metadata": {},
   "source": [
    "### efficiency"
   ]
  },
  {
   "cell_type": "code",
   "execution_count": 186,
   "metadata": {},
   "outputs": [],
   "source": [
    "mixed = metrics_df[metrics_df.compression=='prune by freq + pq'].copy().sort_values('ram', ascending=True)"
   ]
  },
  {
   "cell_type": "code",
   "execution_count": 188,
   "metadata": {},
   "outputs": [],
   "source": [
    "mixed['cs_best'] = mixed['cs_all'].cummax()\n",
    "mixed['cs_eff'] = mixed.cs_all / mixed.cs_best"
   ]
  },
  {
   "cell_type": "code",
   "execution_count": 190,
   "metadata": {},
   "outputs": [
    {
     "data": {
      "text/html": [
       "<div>\n",
       "<style scoped>\n",
       "    .dataframe tbody tr th:only-of-type {\n",
       "        vertical-align: middle;\n",
       "    }\n",
       "\n",
       "    .dataframe tbody tr th {\n",
       "        vertical-align: top;\n",
       "    }\n",
       "\n",
       "    .dataframe thead th {\n",
       "        text-align: right;\n",
       "    }\n",
       "</style>\n",
       "<table border=\"1\" class=\"dataframe\">\n",
       "  <thead>\n",
       "    <tr style=\"text-align: right;\">\n",
       "      <th></th>\n",
       "      <th>time</th>\n",
       "      <th>hj</th>\n",
       "      <th>ae</th>\n",
       "      <th>rt</th>\n",
       "      <th>sl</th>\n",
       "      <th>ram</th>\n",
       "      <th>cs_raw</th>\n",
       "      <th>cs_lemma</th>\n",
       "      <th>cs_all</th>\n",
       "      <th>cs_in</th>\n",
       "      <th>cs_out</th>\n",
       "      <th>tpw</th>\n",
       "      <th>disk</th>\n",
       "      <th>compression</th>\n",
       "      <th>cs_best</th>\n",
       "      <th>cs_eff</th>\n",
       "    </tr>\n",
       "  </thead>\n",
       "  <tbody>\n",
       "    <tr>\n",
       "      <th>ft_freqprune_50K_0K_pq_50.bin</th>\n",
       "      <td>0.000242</td>\n",
       "      <td>0.510857</td>\n",
       "      <td>0.558700</td>\n",
       "      <td>0.583388</td>\n",
       "      <td>0.225123</td>\n",
       "      <td>8.140435</td>\n",
       "      <td>0.850727</td>\n",
       "      <td>0.800707</td>\n",
       "      <td>0.855098</td>\n",
       "      <td>0.850806</td>\n",
       "      <td>0.863907</td>\n",
       "      <td>0.000305</td>\n",
       "      <td>4.852679</td>\n",
       "      <td>prune by freq + pq</td>\n",
       "      <td>0.855098</td>\n",
       "      <td>1.0</td>\n",
       "    </tr>\n",
       "    <tr>\n",
       "      <th>ft_freqprune_50K_5K_pq_50.bin</th>\n",
       "      <td>0.000330</td>\n",
       "      <td>0.596431</td>\n",
       "      <td>0.668571</td>\n",
       "      <td>0.615103</td>\n",
       "      <td>0.275432</td>\n",
       "      <td>10.317487</td>\n",
       "      <td>0.877184</td>\n",
       "      <td>0.877573</td>\n",
       "      <td>0.862623</td>\n",
       "      <td>0.861826</td>\n",
       "      <td>0.864258</td>\n",
       "      <td>0.000330</td>\n",
       "      <td>6.405070</td>\n",
       "      <td>prune by freq + pq</td>\n",
       "      <td>0.862623</td>\n",
       "      <td>1.0</td>\n",
       "    </tr>\n",
       "    <tr>\n",
       "      <th>ft_freqprune_50K_0K_pq_100.bin</th>\n",
       "      <td>0.000383</td>\n",
       "      <td>0.546036</td>\n",
       "      <td>0.608255</td>\n",
       "      <td>0.617548</td>\n",
       "      <td>0.256702</td>\n",
       "      <td>10.524812</td>\n",
       "      <td>0.917583</td>\n",
       "      <td>0.867805</td>\n",
       "      <td>0.920153</td>\n",
       "      <td>0.914489</td>\n",
       "      <td>0.931777</td>\n",
       "      <td>0.000256</td>\n",
       "      <td>8.417727</td>\n",
       "      <td>prune by freq + pq</td>\n",
       "      <td>0.920153</td>\n",
       "      <td>1.0</td>\n",
       "    </tr>\n",
       "    <tr>\n",
       "      <th>ft_freqprune_50K_5K_pq_100.bin</th>\n",
       "      <td>0.000250</td>\n",
       "      <td>0.617538</td>\n",
       "      <td>0.713026</td>\n",
       "      <td>0.640740</td>\n",
       "      <td>0.293197</td>\n",
       "      <td>12.940473</td>\n",
       "      <td>0.943174</td>\n",
       "      <td>0.943386</td>\n",
       "      <td>0.927278</td>\n",
       "      <td>0.925012</td>\n",
       "      <td>0.931928</td>\n",
       "      <td>0.000260</td>\n",
       "      <td>10.324877</td>\n",
       "      <td>prune by freq + pq</td>\n",
       "      <td>0.927278</td>\n",
       "      <td>1.0</td>\n",
       "    </tr>\n",
       "    <tr>\n",
       "      <th>ft_freqprune_50K_20K_pq_100.bin</th>\n",
       "      <td>0.000204</td>\n",
       "      <td>0.639476</td>\n",
       "      <td>0.782964</td>\n",
       "      <td>0.683601</td>\n",
       "      <td>0.323163</td>\n",
       "      <td>18.454968</td>\n",
       "      <td>0.951885</td>\n",
       "      <td>0.964652</td>\n",
       "      <td>0.940943</td>\n",
       "      <td>0.945288</td>\n",
       "      <td>0.932026</td>\n",
       "      <td>0.000504</td>\n",
       "      <td>13.388101</td>\n",
       "      <td>prune by freq + pq</td>\n",
       "      <td>0.940943</td>\n",
       "      <td>1.0</td>\n",
       "    </tr>\n",
       "    <tr>\n",
       "      <th>ft_freqprune_100K_0K_pq_100.bin</th>\n",
       "      <td>0.000349</td>\n",
       "      <td>0.608875</td>\n",
       "      <td>0.708369</td>\n",
       "      <td>0.680599</td>\n",
       "      <td>0.267058</td>\n",
       "      <td>20.463250</td>\n",
       "      <td>0.940816</td>\n",
       "      <td>0.897626</td>\n",
       "      <td>0.950067</td>\n",
       "      <td>0.946839</td>\n",
       "      <td>0.956694</td>\n",
       "      <td>0.000320</td>\n",
       "      <td>16.029263</td>\n",
       "      <td>prune by freq + pq</td>\n",
       "      <td>0.950067</td>\n",
       "      <td>1.0</td>\n",
       "    </tr>\n",
       "    <tr>\n",
       "      <th>ft_freqprune_100K_5K_pq_100.bin</th>\n",
       "      <td>0.000403</td>\n",
       "      <td>0.628626</td>\n",
       "      <td>0.764922</td>\n",
       "      <td>0.679837</td>\n",
       "      <td>0.296264</td>\n",
       "      <td>22.878911</td>\n",
       "      <td>0.961159</td>\n",
       "      <td>0.956168</td>\n",
       "      <td>0.954935</td>\n",
       "      <td>0.953915</td>\n",
       "      <td>0.957030</td>\n",
       "      <td>0.000446</td>\n",
       "      <td>17.899714</td>\n",
       "      <td>prune by freq + pq</td>\n",
       "      <td>0.954935</td>\n",
       "      <td>1.0</td>\n",
       "    </tr>\n",
       "    <tr>\n",
       "      <th>ft_freqprune_100K_20K_pq_100.bin</th>\n",
       "      <td>0.000427</td>\n",
       "      <td>0.643476</td>\n",
       "      <td>0.794196</td>\n",
       "      <td>0.698665</td>\n",
       "      <td>0.322853</td>\n",
       "      <td>28.393407</td>\n",
       "      <td>0.966698</td>\n",
       "      <td>0.969134</td>\n",
       "      <td>0.961530</td>\n",
       "      <td>0.963896</td>\n",
       "      <td>0.956675</td>\n",
       "      <td>0.000716</td>\n",
       "      <td>20.972652</td>\n",
       "      <td>prune by freq + pq</td>\n",
       "      <td>0.961530</td>\n",
       "      <td>1.0</td>\n",
       "    </tr>\n",
       "    <tr>\n",
       "      <th>ft_freqprune_100K_0K_pq_300.bin</th>\n",
       "      <td>0.000371</td>\n",
       "      <td>0.613326</td>\n",
       "      <td>0.720925</td>\n",
       "      <td>0.683240</td>\n",
       "      <td>0.268368</td>\n",
       "      <td>39.537526</td>\n",
       "      <td>0.963732</td>\n",
       "      <td>0.921186</td>\n",
       "      <td>0.972052</td>\n",
       "      <td>0.968254</td>\n",
       "      <td>0.979845</td>\n",
       "      <td>0.000417</td>\n",
       "      <td>44.590389</td>\n",
       "      <td>prune by freq + pq</td>\n",
       "      <td>0.972052</td>\n",
       "      <td>1.0</td>\n",
       "    </tr>\n",
       "    <tr>\n",
       "      <th>ft_freqprune_100K_5K_pq_300.bin</th>\n",
       "      <td>0.000443</td>\n",
       "      <td>0.640352</td>\n",
       "      <td>0.773815</td>\n",
       "      <td>0.687454</td>\n",
       "      <td>0.304946</td>\n",
       "      <td>42.907651</td>\n",
       "      <td>0.982773</td>\n",
       "      <td>0.975343</td>\n",
       "      <td>0.976234</td>\n",
       "      <td>0.974470</td>\n",
       "      <td>0.979854</td>\n",
       "      <td>0.000303</td>\n",
       "      <td>47.869340</td>\n",
       "      <td>prune by freq + pq</td>\n",
       "      <td>0.976234</td>\n",
       "      <td>1.0</td>\n",
       "    </tr>\n",
       "    <tr>\n",
       "      <th>ft_freqprune_100K_20K_pq_300.bin</th>\n",
       "      <td>0.000624</td>\n",
       "      <td>0.652613</td>\n",
       "      <td>0.803126</td>\n",
       "      <td>0.705799</td>\n",
       "      <td>0.329349</td>\n",
       "      <td>51.283170</td>\n",
       "      <td>0.988778</td>\n",
       "      <td>0.988994</td>\n",
       "      <td>0.982852</td>\n",
       "      <td>0.984299</td>\n",
       "      <td>0.979884</td>\n",
       "      <td>0.000522</td>\n",
       "      <td>55.293861</td>\n",
       "      <td>prune by freq + pq</td>\n",
       "      <td>0.982852</td>\n",
       "      <td>1.0</td>\n",
       "    </tr>\n",
       "    <tr>\n",
       "      <th>ft_freqprune_100K_100K_pq_300.bin</th>\n",
       "      <td>0.000220</td>\n",
       "      <td>0.665908</td>\n",
       "      <td>0.821698</td>\n",
       "      <td>0.721145</td>\n",
       "      <td>0.331145</td>\n",
       "      <td>96.437974</td>\n",
       "      <td>0.993002</td>\n",
       "      <td>0.993345</td>\n",
       "      <td>0.991956</td>\n",
       "      <td>0.997847</td>\n",
       "      <td>0.979867</td>\n",
       "      <td>0.000245</td>\n",
       "      <td>94.473032</td>\n",
       "      <td>prune by freq + pq</td>\n",
       "      <td>0.991956</td>\n",
       "      <td>1.0</td>\n",
       "    </tr>\n",
       "    <tr>\n",
       "      <th>ft_freqprune_400K_5K_pq_300.bin</th>\n",
       "      <td>0.001605</td>\n",
       "      <td>0.659877</td>\n",
       "      <td>0.810622</td>\n",
       "      <td>0.710654</td>\n",
       "      <td>0.320795</td>\n",
       "      <td>126.444364</td>\n",
       "      <td>0.993905</td>\n",
       "      <td>0.988881</td>\n",
       "      <td>0.993016</td>\n",
       "      <td>0.992387</td>\n",
       "      <td>0.994306</td>\n",
       "      <td>0.000615</td>\n",
       "      <td>149.291206</td>\n",
       "      <td>prune by freq + pq</td>\n",
       "      <td>0.993016</td>\n",
       "      <td>1.0</td>\n",
       "    </tr>\n",
       "    <tr>\n",
       "      <th>ft_freqprune_400K_20K_pq_300.bin</th>\n",
       "      <td>0.000346</td>\n",
       "      <td>0.663110</td>\n",
       "      <td>0.820304</td>\n",
       "      <td>0.718906</td>\n",
       "      <td>0.330847</td>\n",
       "      <td>134.819882</td>\n",
       "      <td>0.996102</td>\n",
       "      <td>0.994804</td>\n",
       "      <td>0.995772</td>\n",
       "      <td>0.996450</td>\n",
       "      <td>0.994379</td>\n",
       "      <td>0.000534</td>\n",
       "      <td>156.571120</td>\n",
       "      <td>prune by freq + pq</td>\n",
       "      <td>0.995772</td>\n",
       "      <td>1.0</td>\n",
       "    </tr>\n",
       "    <tr>\n",
       "      <th>ft_freqprune_400K_100K_pq_300.bin</th>\n",
       "      <td>0.000148</td>\n",
       "      <td>0.667345</td>\n",
       "      <td>0.825032</td>\n",
       "      <td>0.722570</td>\n",
       "      <td>0.331850</td>\n",
       "      <td>179.974687</td>\n",
       "      <td>0.997088</td>\n",
       "      <td>0.995913</td>\n",
       "      <td>0.997725</td>\n",
       "      <td>0.999397</td>\n",
       "      <td>0.994293</td>\n",
       "      <td>0.000141</td>\n",
       "      <td>195.902859</td>\n",
       "      <td>prune by freq + pq</td>\n",
       "      <td>0.997725</td>\n",
       "      <td>1.0</td>\n",
       "    </tr>\n",
       "  </tbody>\n",
       "</table>\n",
       "</div>"
      ],
      "text/plain": [
       "                                       time        hj        ae        rt  \\\n",
       "ft_freqprune_50K_0K_pq_50.bin      0.000242  0.510857  0.558700  0.583388   \n",
       "ft_freqprune_50K_5K_pq_50.bin      0.000330  0.596431  0.668571  0.615103   \n",
       "ft_freqprune_50K_0K_pq_100.bin     0.000383  0.546036  0.608255  0.617548   \n",
       "ft_freqprune_50K_5K_pq_100.bin     0.000250  0.617538  0.713026  0.640740   \n",
       "ft_freqprune_50K_20K_pq_100.bin    0.000204  0.639476  0.782964  0.683601   \n",
       "ft_freqprune_100K_0K_pq_100.bin    0.000349  0.608875  0.708369  0.680599   \n",
       "ft_freqprune_100K_5K_pq_100.bin    0.000403  0.628626  0.764922  0.679837   \n",
       "ft_freqprune_100K_20K_pq_100.bin   0.000427  0.643476  0.794196  0.698665   \n",
       "ft_freqprune_100K_0K_pq_300.bin    0.000371  0.613326  0.720925  0.683240   \n",
       "ft_freqprune_100K_5K_pq_300.bin    0.000443  0.640352  0.773815  0.687454   \n",
       "ft_freqprune_100K_20K_pq_300.bin   0.000624  0.652613  0.803126  0.705799   \n",
       "ft_freqprune_100K_100K_pq_300.bin  0.000220  0.665908  0.821698  0.721145   \n",
       "ft_freqprune_400K_5K_pq_300.bin    0.001605  0.659877  0.810622  0.710654   \n",
       "ft_freqprune_400K_20K_pq_300.bin   0.000346  0.663110  0.820304  0.718906   \n",
       "ft_freqprune_400K_100K_pq_300.bin  0.000148  0.667345  0.825032  0.722570   \n",
       "\n",
       "                                         sl         ram    cs_raw  cs_lemma  \\\n",
       "ft_freqprune_50K_0K_pq_50.bin      0.225123    8.140435  0.850727  0.800707   \n",
       "ft_freqprune_50K_5K_pq_50.bin      0.275432   10.317487  0.877184  0.877573   \n",
       "ft_freqprune_50K_0K_pq_100.bin     0.256702   10.524812  0.917583  0.867805   \n",
       "ft_freqprune_50K_5K_pq_100.bin     0.293197   12.940473  0.943174  0.943386   \n",
       "ft_freqprune_50K_20K_pq_100.bin    0.323163   18.454968  0.951885  0.964652   \n",
       "ft_freqprune_100K_0K_pq_100.bin    0.267058   20.463250  0.940816  0.897626   \n",
       "ft_freqprune_100K_5K_pq_100.bin    0.296264   22.878911  0.961159  0.956168   \n",
       "ft_freqprune_100K_20K_pq_100.bin   0.322853   28.393407  0.966698  0.969134   \n",
       "ft_freqprune_100K_0K_pq_300.bin    0.268368   39.537526  0.963732  0.921186   \n",
       "ft_freqprune_100K_5K_pq_300.bin    0.304946   42.907651  0.982773  0.975343   \n",
       "ft_freqprune_100K_20K_pq_300.bin   0.329349   51.283170  0.988778  0.988994   \n",
       "ft_freqprune_100K_100K_pq_300.bin  0.331145   96.437974  0.993002  0.993345   \n",
       "ft_freqprune_400K_5K_pq_300.bin    0.320795  126.444364  0.993905  0.988881   \n",
       "ft_freqprune_400K_20K_pq_300.bin   0.330847  134.819882  0.996102  0.994804   \n",
       "ft_freqprune_400K_100K_pq_300.bin  0.331850  179.974687  0.997088  0.995913   \n",
       "\n",
       "                                     cs_all     cs_in    cs_out       tpw  \\\n",
       "ft_freqprune_50K_0K_pq_50.bin      0.855098  0.850806  0.863907  0.000305   \n",
       "ft_freqprune_50K_5K_pq_50.bin      0.862623  0.861826  0.864258  0.000330   \n",
       "ft_freqprune_50K_0K_pq_100.bin     0.920153  0.914489  0.931777  0.000256   \n",
       "ft_freqprune_50K_5K_pq_100.bin     0.927278  0.925012  0.931928  0.000260   \n",
       "ft_freqprune_50K_20K_pq_100.bin    0.940943  0.945288  0.932026  0.000504   \n",
       "ft_freqprune_100K_0K_pq_100.bin    0.950067  0.946839  0.956694  0.000320   \n",
       "ft_freqprune_100K_5K_pq_100.bin    0.954935  0.953915  0.957030  0.000446   \n",
       "ft_freqprune_100K_20K_pq_100.bin   0.961530  0.963896  0.956675  0.000716   \n",
       "ft_freqprune_100K_0K_pq_300.bin    0.972052  0.968254  0.979845  0.000417   \n",
       "ft_freqprune_100K_5K_pq_300.bin    0.976234  0.974470  0.979854  0.000303   \n",
       "ft_freqprune_100K_20K_pq_300.bin   0.982852  0.984299  0.979884  0.000522   \n",
       "ft_freqprune_100K_100K_pq_300.bin  0.991956  0.997847  0.979867  0.000245   \n",
       "ft_freqprune_400K_5K_pq_300.bin    0.993016  0.992387  0.994306  0.000615   \n",
       "ft_freqprune_400K_20K_pq_300.bin   0.995772  0.996450  0.994379  0.000534   \n",
       "ft_freqprune_400K_100K_pq_300.bin  0.997725  0.999397  0.994293  0.000141   \n",
       "\n",
       "                                         disk         compression   cs_best  \\\n",
       "ft_freqprune_50K_0K_pq_50.bin        4.852679  prune by freq + pq  0.855098   \n",
       "ft_freqprune_50K_5K_pq_50.bin        6.405070  prune by freq + pq  0.862623   \n",
       "ft_freqprune_50K_0K_pq_100.bin       8.417727  prune by freq + pq  0.920153   \n",
       "ft_freqprune_50K_5K_pq_100.bin      10.324877  prune by freq + pq  0.927278   \n",
       "ft_freqprune_50K_20K_pq_100.bin     13.388101  prune by freq + pq  0.940943   \n",
       "ft_freqprune_100K_0K_pq_100.bin     16.029263  prune by freq + pq  0.950067   \n",
       "ft_freqprune_100K_5K_pq_100.bin     17.899714  prune by freq + pq  0.954935   \n",
       "ft_freqprune_100K_20K_pq_100.bin    20.972652  prune by freq + pq  0.961530   \n",
       "ft_freqprune_100K_0K_pq_300.bin     44.590389  prune by freq + pq  0.972052   \n",
       "ft_freqprune_100K_5K_pq_300.bin     47.869340  prune by freq + pq  0.976234   \n",
       "ft_freqprune_100K_20K_pq_300.bin    55.293861  prune by freq + pq  0.982852   \n",
       "ft_freqprune_100K_100K_pq_300.bin   94.473032  prune by freq + pq  0.991956   \n",
       "ft_freqprune_400K_5K_pq_300.bin    149.291206  prune by freq + pq  0.993016   \n",
       "ft_freqprune_400K_20K_pq_300.bin   156.571120  prune by freq + pq  0.995772   \n",
       "ft_freqprune_400K_100K_pq_300.bin  195.902859  prune by freq + pq  0.997725   \n",
       "\n",
       "                                   cs_eff  \n",
       "ft_freqprune_50K_0K_pq_50.bin         1.0  \n",
       "ft_freqprune_50K_5K_pq_50.bin         1.0  \n",
       "ft_freqprune_50K_0K_pq_100.bin        1.0  \n",
       "ft_freqprune_50K_5K_pq_100.bin        1.0  \n",
       "ft_freqprune_50K_20K_pq_100.bin       1.0  \n",
       "ft_freqprune_100K_0K_pq_100.bin       1.0  \n",
       "ft_freqprune_100K_5K_pq_100.bin       1.0  \n",
       "ft_freqprune_100K_20K_pq_100.bin      1.0  \n",
       "ft_freqprune_100K_0K_pq_300.bin       1.0  \n",
       "ft_freqprune_100K_5K_pq_300.bin       1.0  \n",
       "ft_freqprune_100K_20K_pq_300.bin      1.0  \n",
       "ft_freqprune_100K_100K_pq_300.bin     1.0  \n",
       "ft_freqprune_400K_5K_pq_300.bin       1.0  \n",
       "ft_freqprune_400K_20K_pq_300.bin      1.0  \n",
       "ft_freqprune_400K_100K_pq_300.bin     1.0  "
      ]
     },
     "execution_count": 190,
     "metadata": {},
     "output_type": "execute_result"
    }
   ],
   "source": [
    "mixed[mixed.cs_eff > 0.999]"
   ]
  },
  {
   "cell_type": "code",
   "execution_count": 200,
   "metadata": {},
   "outputs": [],
   "source": [
    "mixed['ngram_size'] = mixed.index.to_series().apply(lambda x: int(x.split('_')[2][:-1]))\n",
    "mixed['words_size'] = mixed.index.to_series().apply(lambda x: int(x.split('_')[3][:-1]))\n",
    "mixed['pq_dim'] = mixed.index.to_series().apply(lambda x: int(x.split('_')[5].split('.')[0]))"
   ]
  },
  {
   "cell_type": "code",
   "execution_count": 250,
   "metadata": {},
   "outputs": [
    {
     "data": {
      "image/png": "[encoded data removed]",
      "text/plain": [
       "<Figure size 864x288 with 3 Axes>"
      ]
     },
     "metadata": {
      "needs_background": "light"
     },
     "output_type": "display_data"
    }
   ],
   "source": [
    "plt.figure(figsize=(12,4))\n",
    "for i, var in enumerate(['pq_dim', 'words_size', 'ngram_size']):\n",
    "    plt.subplot(1, 3, i+1)\n",
    "    l = []\n",
    "    plt.set_cmap('viridis')\n",
    "    for a, b in mixed.groupby(var):\n",
    "        l.append(a)\n",
    "        plt.scatter(b.ram, b.cs_all, cmap=plt.cm.Greens)\n",
    "    plt.legend(l, loc='lower right')\n",
    "    plt.title('by ' + var)\n",
    "    plt.xlabel('ram')\n",
    "    plt.ylabel('similarity')\n",
    "plt.tight_layout();"
   ]
  },
  {
   "cell_type": "code",
   "execution_count": 245,
   "metadata": {},
   "outputs": [
    {
     "data": {
      "text/plain": [
       "<matplotlib.legend.Legend at 0x21f2f14e7b8>"
      ]
     },
     "execution_count": 245,
     "metadata": {},
     "output_type": "execute_result"
    },
    {
     "data": {
      "image/png": "[encoded data removed]",
      "text/plain": [
       "<Figure size 432x288 with 1 Axes>"
      ]
     },
     "metadata": {
      "needs_background": "light"
     },
     "output_type": "display_data"
    }
   ],
   "source": [
    "plt.scatter(mixed.ram, mixed.cs_all, c=mixed.pq_dim);\n",
    "plt.legend(mixed.pq_dim.unique())"
   ]
  },
  {
   "cell_type": "code",
   "execution_count": 316,
   "metadata": {},
   "outputs": [
    {
     "data": {
      "text/html": [
       "<div>\n",
       "<style scoped>\n",
       "    .dataframe tbody tr th:only-of-type {\n",
       "        vertical-align: middle;\n",
       "    }\n",
       "\n",
       "    .dataframe tbody tr th {\n",
       "        vertical-align: top;\n",
       "    }\n",
       "\n",
       "    .dataframe thead th {\n",
       "        text-align: right;\n",
       "    }\n",
       "</style>\n",
       "<table border=\"1\" class=\"dataframe\">\n",
       "  <thead>\n",
       "    <tr style=\"text-align: right;\">\n",
       "      <th></th>\n",
       "      <th>time</th>\n",
       "      <th>hj</th>\n",
       "      <th>ae</th>\n",
       "      <th>rt</th>\n",
       "      <th>sl</th>\n",
       "      <th>ram</th>\n",
       "      <th>cs_raw</th>\n",
       "      <th>cs_lemma</th>\n",
       "      <th>cs_all</th>\n",
       "      <th>cs_in</th>\n",
       "      <th>cs_out</th>\n",
       "      <th>tpw</th>\n",
       "      <th>disk</th>\n",
       "      <th>compression</th>\n",
       "    </tr>\n",
       "  </thead>\n",
       "  <tbody>\n",
       "    <tr>\n",
       "      <th>ft_fp16.bin</th>\n",
       "      <td>0.000034</td>\n",
       "      <td>0.666781</td>\n",
       "      <td>0.825175</td>\n",
       "      <td>0.722725</td>\n",
       "      <td>0.331730</td>\n",
       "      <td>1280.666779</td>\n",
       "      <td>1.000000</td>\n",
       "      <td>1.000000</td>\n",
       "      <td>1.000000</td>\n",
       "      <td>1.000000</td>\n",
       "      <td>1.0</td>\n",
       "      <td>0.000049</td>\n",
       "      <td>1248.998929</td>\n",
       "      <td>original fp16</td>\n",
       "    </tr>\n",
       "    <tr>\n",
       "      <th>ft_fp16_ngrams.bin</th>\n",
       "      <td>0.000106</td>\n",
       "      <td>0.643272</td>\n",
       "      <td>0.783875</td>\n",
       "      <td>0.712722</td>\n",
       "      <td>0.287364</td>\n",
       "      <td>1144.410919</td>\n",
       "      <td>0.987800</td>\n",
       "      <td>0.962324</td>\n",
       "      <td>0.994094</td>\n",
       "      <td>0.991217</td>\n",
       "      <td>1.0</td>\n",
       "      <td>0.000127</td>\n",
       "      <td>1144.409912</td>\n",
       "      <td>original fp16 w/o words</td>\n",
       "    </tr>\n",
       "    <tr>\n",
       "      <th>ft_fp16_words.bin</th>\n",
       "      <td>0.000050</td>\n",
       "      <td>0.614175</td>\n",
       "      <td>0.706711</td>\n",
       "      <td>0.413179</td>\n",
       "      <td>0.328931</td>\n",
       "      <td>136.258077</td>\n",
       "      <td>0.349407</td>\n",
       "      <td>0.963470</td>\n",
       "      <td>0.672388</td>\n",
       "      <td>1.000000</td>\n",
       "      <td>0.0</td>\n",
       "      <td>0.000044</td>\n",
       "      <td>104.590613</td>\n",
       "      <td>original fp16_w/o ngrams</td>\n",
       "    </tr>\n",
       "  </tbody>\n",
       "</table>\n",
       "</div>"
      ],
      "text/plain": [
       "                        time        hj        ae        rt        sl  \\\n",
       "ft_fp16.bin         0.000034  0.666781  0.825175  0.722725  0.331730   \n",
       "ft_fp16_ngrams.bin  0.000106  0.643272  0.783875  0.712722  0.287364   \n",
       "ft_fp16_words.bin   0.000050  0.614175  0.706711  0.413179  0.328931   \n",
       "\n",
       "                            ram    cs_raw  cs_lemma    cs_all     cs_in  \\\n",
       "ft_fp16.bin         1280.666779  1.000000  1.000000  1.000000  1.000000   \n",
       "ft_fp16_ngrams.bin  1144.410919  0.987800  0.962324  0.994094  0.991217   \n",
       "ft_fp16_words.bin    136.258077  0.349407  0.963470  0.672388  1.000000   \n",
       "\n",
       "                    cs_out       tpw         disk               compression  \n",
       "ft_fp16.bin            1.0  0.000049  1248.998929             original fp16  \n",
       "ft_fp16_ngrams.bin     1.0  0.000127  1144.409912   original fp16 w/o words  \n",
       "ft_fp16_words.bin      0.0  0.000044   104.590613  original fp16_w/o ngrams  "
      ]
     },
     "execution_count": 316,
     "metadata": {},
     "output_type": "execute_result"
    }
   ],
   "source": [
    "metrics_df[metrics_df.index.to_series().str.contains('fp16')]"
   ]
  },
  {
   "cell_type": "code",
   "execution_count": 326,
   "metadata": {},
   "outputs": [],
   "source": [
    "metrics2 = metrics_df[\n",
    "    (metrics_df.compression!='prune by freq + pq') & (metrics_df.ram > 5)\n",
    "    | metrics_df.index.to_series().apply(lambda x: mixed.cs_eff.get(x, 0) > 0.999)\n",
    "].copy()"
   ]
  },
  {
   "cell_type": "markdown",
   "metadata": {},
   "source": [
    "## Plot everything"
   ]
  },
  {
   "cell_type": "code",
   "execution_count": 276,
   "metadata": {},
   "outputs": [],
   "source": [
    "import matplotlib.pyplot as plt\n",
    "%matplotlib inline"
   ]
  },
  {
   "cell_type": "code",
   "execution_count": 335,
   "metadata": {},
   "outputs": [],
   "source": [
    "labels = [\n",
    "    'decomposition', \n",
    "    'pq', \n",
    "    'prune hash',\n",
    "    'prune by freq', \n",
    "    'prune by freq + pq', \n",
    "    'original', \n",
    "    'original fp16', \n",
    "    'original fp16 w/o words', \n",
    "    'original fp16_w/o ngrams',\n",
    "]"
   ]
  },
  {
   "cell_type": "code",
   "execution_count": 329,
   "metadata": {},
   "outputs": [
    {
     "data": {
      "image/png": "[encoded data removed]",
      "text/plain": [
       "<Figure size 864x288 with 1 Axes>"
      ]
     },
     "metadata": {
      "needs_background": "light"
     },
     "output_type": "display_data"
    }
   ],
   "source": [
    "def grouped_plot(data, x='ram', y='cs_all', by='compression', scatter=False, labels=None, legend=True):\n",
    "    if labels is None:\n",
    "        labels = data[by].unique()\n",
    "    for key in labels:\n",
    "        filtered = data[data[by] == key].sort_values(x)\n",
    "        plotter = plt.scatter\n",
    "        if not scatter and filtered.shape[0] > 1:\n",
    "            plotter = plt.plot\n",
    "        plotter(filtered[x], filtered[y])\n",
    "    if legend:\n",
    "        plt.legend(labels)\n",
    "\n",
    "plt.figure(figsize=(12, 4))\n",
    "grouped_plot(metrics2, x='ram', y='cs_all', labels=labels)\n",
    "plt.xscale('log');\n",
    "plt.xlim([5, 3000])\n",
    "\n",
    "plt.xlabel('ram')\n",
    "plt.ylabel('similarity');"
   ]
  },
  {
   "cell_type": "code",
   "execution_count": 284,
   "metadata": {},
   "outputs": [
    {
     "data": {
      "image/png": "[encoded data removed]",
      "text/plain": [
       "<Figure size 360x360 with 1 Axes>"
      ]
     },
     "metadata": {
      "needs_background": "light"
     },
     "output_type": "display_data"
    }
   ],
   "source": [
    "plt.figure(figsize=(5,5))\n",
    "for key in labels:\n",
    "    filtered = metrics2[metrics2['compression'] == key]\n",
    "    plt.scatter(filtered['disk'], filtered['ram'])\n",
    "plt.legend(labels)\n",
    "    \n",
    "plt.xscale('log')\n",
    "plt.yscale('log')\n",
    "\n",
    "plt.xlabel('disk')\n",
    "plt.ylabel('ram');"
   ]
  },
  {
   "cell_type": "code",
   "execution_count": 342,
   "metadata": {},
   "outputs": [
    {
     "data": {
      "image/png": "[encoded data removed]",
      "text/plain": [
       "<Figure size 360x360 with 1 Axes>"
      ]
     },
     "metadata": {
      "needs_background": "light"
     },
     "output_type": "display_data"
    }
   ],
   "source": [
    "plt.figure(figsize=(5,5))\n",
    "for key in labels:\n",
    "    filtered = metrics2[metrics2['compression'] == key]\n",
    "    plt.scatter(filtered['cs_in'], filtered['cs_out'])\n",
    "plt.legend(labels)\n",
    "\n",
    "plt.xlabel('similarity in-vocab')\n",
    "plt.ylabel('similarity oov');"
   ]
  },
  {
   "cell_type": "code",
   "execution_count": 289,
   "metadata": {},
   "outputs": [
    {
     "data": {
      "text/plain": [
       "Index(['time', 'hj', 'ae', 'rt', 'sl', 'ram', 'cs_raw', 'cs_lemma', 'cs_all',\n",
       "       'cs_in', 'cs_out', 'tpw', 'disk', 'compression'],\n",
       "      dtype='object')"
      ]
     },
     "execution_count": 289,
     "metadata": {},
     "output_type": "execute_result"
    }
   ],
   "source": [
    "metrics2.columns"
   ]
  },
  {
   "cell_type": "code",
   "execution_count": 314,
   "metadata": {},
   "outputs": [
    {
     "data": {
      "image/png": "[encoded data removed]",
      "text/plain": [
       "<Figure size 864x288 with 4 Axes>"
      ]
     },
     "metadata": {
      "needs_background": "light"
     },
     "output_type": "display_data"
    }
   ],
   "source": [
    "f = plt.figure(figsize=(12, 4))\n",
    "for i, me in enumerate(['hj', 'sl', 'ae', 'rt']):\n",
    "    plt.subplot(1, 4, i+1)\n",
    "    grouped_plot(metrics2, x='ram', y=me, labels=labels, legend=False)\n",
    "    plt.title(me)\n",
    "    plt.xscale('log');\n",
    "    plt.xlabel('ram')\n",
    "plt.tight_layout()\n",
    "plt.legend(labels, loc='lower center', ncol=5, bbox_to_anchor=(-1.3, -0.35));"
   ]
  },
  {
   "cell_type": "code",
   "execution_count": 332,
   "metadata": {},
   "outputs": [
    {
     "data": {
      "image/png": "[encoded data removed]",
      "text/plain": [
       "<Figure size 432x432 with 1 Axes>"
      ]
     },
     "metadata": {
      "needs_background": "light"
     },
     "output_type": "display_data"
    }
   ],
   "source": [
    "plt.figure(figsize=(6, 6))\n",
    "grouped_plot(metrics2, x='cs_all', y='ie_rel', labels=labels)\n",
    "\n",
    "plt.xlabel('similarity')\n",
    "plt.ylabel('intrinsic evaluation, %');"
   ]
  },
  {
   "cell_type": "code",
   "execution_count": 340,
   "metadata": {},
   "outputs": [
    {
     "data": {
      "image/png": "[encoded data removed]",
      "text/plain": [
       "<Figure size 432x432 with 1 Axes>"
      ]
     },
     "metadata": {
      "needs_background": "light"
     },
     "output_type": "display_data"
    }
   ],
   "source": [
    "plt.figure(figsize=(6, 6))\n",
    "grouped_plot(metrics2, x='ram', y='time', labels=labels, legend=None)\n",
    "plt.legend(labels, ncol=2)\n",
    "\n",
    "plt.yscale('log')\n",
    "plt.xscale('log')\n",
    "plt.xlabel('ram')\n",
    "plt.ylabel('time');"
   ]
  },
  {
   "cell_type": "code",
   "execution_count": 349,
   "metadata": {},
   "outputs": [
    {
     "data": {
      "image/png": "[encoded data removed]",
      "text/plain": [
       "<Figure size 432x432 with 1 Axes>"
      ]
     },
     "metadata": {
      "needs_background": "light"
     },
     "output_type": "display_data"
    }
   ],
   "source": [
    "plt.figure(figsize=(6, 6))\n",
    "grouped_plot(metrics2, x='cs_in', y='cs_out', labels=labels)\n",
    "\n",
    "plt.xlim([0.6, 1.01])\n",
    "plt.ylim([0.6, 1.01])\n",
    "plt.xlabel('similarity in-vocab')\n",
    "plt.ylabel('similarity out-of-vocab');"
   ]
  },
  {
   "cell_type": "code",
   "execution_count": null,
   "metadata": {},
   "outputs": [],
   "source": []
  }
 ],
 "metadata": {
  "kernelspec": {
   "display_name": "Python 3",
   "language": "python",
   "name": "python3"
  }
 },
 "nbformat": 4,
 "nbformat_minor": 2
}
