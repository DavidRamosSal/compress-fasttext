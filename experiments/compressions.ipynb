{
 "cells": [
  {
   "cell_type": "markdown",
   "metadata": {},
   "source": [
    "В этом блокноте я запускаю все эксперименты по сжатию модели (а результаты оцениваю в соседнем). \n",
    "\n",
    "Для запуска могут требоваться библиотеки, не указанные в requirements. \n"
   ]
  },
  {
   "cell_type": "code",
   "execution_count": 1,
   "metadata": {},
   "outputs": [],
   "source": [
    "original_path = 'C:/Users/ddale/Downloads/NLP/rusvectores/model.model'\n",
    "exp_path = 'C:/Users/ddale/Downloads/NLP/compress_ft/'"
   ]
  },
  {
   "cell_type": "code",
   "execution_count": 2,
   "metadata": {},
   "outputs": [],
   "source": [
    "import gensim\n",
    "import numpy as np\n",
    "\n",
    "import gc\n",
    "\n",
    "import matplotlib.pyplot as plt\n",
    "%matplotlib inline"
   ]
  },
  {
   "cell_type": "code",
   "execution_count": 3,
   "metadata": {},
   "outputs": [],
   "source": [
    "import os\n",
    "import sys\n",
    "\n",
    "def add_sys_path(p):\n",
    "    p = os.path.abspath(p)\n",
    "    if p not in sys.path:\n",
    "        sys.path.append(p)"
   ]
  },
  {
   "cell_type": "code",
   "execution_count": 4,
   "metadata": {},
   "outputs": [],
   "source": [
    "add_sys_path('..')"
   ]
  },
  {
   "cell_type": "code",
   "execution_count": 5,
   "metadata": {},
   "outputs": [],
   "source": [
    "from importlib import reload\n",
    "\n",
    "import compress_fasttext\n",
    "reload(compress_fasttext)\n",
    "\n",
    "import compress_fasttext.utils\n",
    "reload(compress_fasttext.utils)\n",
    "from compress_fasttext.utils import getsize\n",
    "\n",
    "import compress_fasttext.prune\n",
    "reload(compress_fasttext.prune)\n",
    "from compress_fasttext.prune import prune_ngrams\n",
    "\n",
    "\n",
    "import compress_fasttext.navec_like\n",
    "reload(compress_fasttext.navec_like)\n",
    "\n",
    "import compress_fasttext.quantization\n",
    "reload(compress_fasttext.quantization)\n",
    "from compress_fasttext.quantization import quantize\n",
    "\n",
    "import compress_fasttext.compress\n",
    "reload(compress_fasttext.compress)\n",
    "from compress_fasttext.compress import make_new_fasttext_model, quantize_ft, svd_ft, prune_ft, prune_ft_freq"
   ]
  },
  {
   "cell_type": "code",
   "execution_count": 19,
   "metadata": {},
   "outputs": [],
   "source": [
    "from compress_fasttext.utils import mb\n",
    "import compress_fasttext.evaluation\n",
    "reload(compress_fasttext.evaluation)\n",
    "from compress_fasttext.evaluation import make_evaluator"
   ]
  },
  {
   "cell_type": "markdown",
   "metadata": {},
   "source": [
    "## Быстрый выигрыш: fp16 и удаление ненужных матриц"
   ]
  },
  {
   "cell_type": "code",
   "execution_count": 7,
   "metadata": {},
   "outputs": [],
   "source": [
    "big_ft = gensim.models.fasttext.FastTextKeyedVectors.load(original_path)\n",
    "big_ft.adjust_vectors()"
   ]
  },
  {
   "cell_type": "code",
   "execution_count": 8,
   "metadata": {},
   "outputs": [
    {
     "name": "stdout",
     "output_type": "stream",
     "text": [
      "2723.8586988449097\n"
     ]
    }
   ],
   "source": [
    "print(mb(big_ft))"
   ]
  },
  {
   "cell_type": "code",
   "execution_count": 21,
   "metadata": {},
   "outputs": [
    {
     "name": "stdout",
     "output_type": "stream",
     "text": [
      "0.9999999998843826\n"
     ]
    }
   ],
   "source": [
    "ev = make_evaluator(big_ft, '../data/toy_corpora/')\n",
    "print(ev(big_ft))"
   ]
  },
  {
   "cell_type": "markdown",
   "metadata": {},
   "source": [
    "Эксперимент первый: удаляем ненужную матрицу с векторами слов и сокращаем точность до полу-флоата.\n",
    "\n",
    "На значениях векторов это не сказывается *примерно никак*, а модель худеет вдвое. "
   ]
  },
  {
   "cell_type": "code",
   "execution_count": 38,
   "metadata": {},
   "outputs": [
    {
     "name": "stdout",
     "output_type": "stream",
     "text": [
      "1280.6656951904297\n"
     ]
    }
   ],
   "source": [
    "ft_fp16 = make_new_fasttext_model(big_ft, big_ft.vectors.astype(np.float16), big_ft.vectors_ngrams.astype(np.float16))\n",
    "print(mb(ft_fp16))"
   ]
  },
  {
   "cell_type": "code",
   "execution_count": 39,
   "metadata": {},
   "outputs": [
    {
     "name": "stdout",
     "output_type": "stream",
     "text": [
      "0.9999999890477056\n"
     ]
    }
   ],
   "source": [
    "original_size = mb(big_ft)\n",
    "fp16_size = mb(ft_fp16)\n",
    "fp16_sim = ev(ft_fp16)\n",
    "print(fp16_sim)"
   ]
  },
  {
   "cell_type": "code",
   "execution_count": 12,
   "metadata": {},
   "outputs": [],
   "source": [
    "ft_fp16.save(exp_path + 'ft_fp16.bin')"
   ]
  },
  {
   "cell_type": "code",
   "execution_count": 234,
   "metadata": {},
   "outputs": [
    {
     "name": "stdout",
     "output_type": "stream",
     "text": [
      "compressing vectors...\n",
      "compressing ngrams...\n",
      "136.25745010375977\n",
      "0.348580438366339\n"
     ]
    }
   ],
   "source": [
    "ft_fp16_words = prune_ft(big_ft, new_vocab_size=len(big_ft.vocab), new_ngrams_size=1)\n",
    "ft_fp16_words.vectors_ngrams = ft_fp16_words.vectors_ngrams * 0\n",
    "print(mb(ft_fp16_words))\n",
    "print(ev(ft_fp16_words))\n",
    "ft_fp16_words.save(exp_path + 'ft_fp16_words.bin')"
   ]
  },
  {
   "cell_type": "code",
   "execution_count": 235,
   "metadata": {},
   "outputs": [
    {
     "name": "stdout",
     "output_type": "stream",
     "text": [
      "1144.410285949707\n",
      "0.9878330512833536\n"
     ]
    }
   ],
   "source": [
    "top_vocab, top_vectors = prune_vocab(ft, new_vocab_size=0)\n",
    "new_ngrams = big_ft.vectors_ngrams.astype(np.float16)\n",
    "\n",
    "ft_fp16_ngrams = make_new_fasttext_model(\n",
    "    big_ft,\n",
    "    new_vectors=top_vectors,\n",
    "    new_vectors_ngrams=new_ngrams,\n",
    "    new_vocab=top_vocab,\n",
    ")\n",
    "print(mb(ft_fp16_ngrams))\n",
    "print(ev(ft_fp16_ngrams))\n",
    "ft_fp16_ngrams.save(exp_path + 'ft_fp16_ngrams.bin')"
   ]
  },
  {
   "cell_type": "markdown",
   "metadata": {},
   "source": [
    "## Сокращение размерности"
   ]
  },
  {
   "cell_type": "markdown",
   "metadata": {},
   "source": [
    "По существу, тут используется старая добрая матричная декомпозиция (truncated SVD). \n",
    "\n",
    "Широкая матрица из дробных чисел приближенно представляется как произведение двух узких. "
   ]
  },
  {
   "cell_type": "code",
   "execution_count": 27,
   "metadata": {},
   "outputs": [
    {
     "name": "stdout",
     "output_type": "stream",
     "text": [
      "compressing vectors...\n",
      "compressing ngrams...\n",
      "150 661.2565078735352 0.8674464881926655\n",
      "compressing vectors...\n",
      "compressing ngrams...\n",
      "100 454.7863998413086 0.8048919371409442\n",
      "compressing vectors...\n",
      "compressing ngrams...\n",
      "50 248.31629180908203 0.7048132591296397\n",
      "compressing vectors...\n",
      "compressing ngrams...\n",
      "25 145.08123779296875 0.6159112646286635\n",
      "compressing vectors...\n",
      "compressing ngrams...\n",
      "10 83.14020538330078 0.5091043212734655\n",
      "compressing vectors...\n",
      "compressing ngrams...\n",
      "5 62.493194580078125 0.4110239894409791\n"
     ]
    }
   ],
   "source": [
    "dimred_sizes = []\n",
    "dimred_sims = []\n",
    "dimred_dims = [150, 100, 50, 25, 10, 5]\n",
    "\n",
    "for d in dimred_dims:\n",
    "    model = svd_ft(big_ft, n_components=d)\n",
    "    s = mb(model)\n",
    "    q = vecs_similarity(big_ft, model)\n",
    "    dimred_sizes.append(s)\n",
    "    dimred_sims.append(q)\n",
    "    print(d, s, q)\n",
    "    model.save(exp_path + 'ft_dimred_{}.bin'.format(d))\n",
    "    gc.collect()"
   ]
  },
  {
   "cell_type": "code",
   "execution_count": 30,
   "metadata": {},
   "outputs": [
    {
     "data": {
      "text/plain": [
       "0"
      ]
     },
     "execution_count": 30,
     "metadata": {},
     "output_type": "execute_result"
    }
   ],
   "source": [
    "gc.collect()"
   ]
  },
  {
   "cell_type": "code",
   "execution_count": 34,
   "metadata": {},
   "outputs": [
    {
     "data": {
      "image/png": "[encoded data removed]",
      "text/plain": [
       "<Figure size 432x288 with 1 Axes>"
      ]
     },
     "metadata": {
      "needs_background": "light"
     },
     "output_type": "display_data"
    }
   ],
   "source": [
    "plt.plot(dimred_sizes, dimred_sims);\n",
    "plt.xlabel('model size, mb');\n",
    "plt.ylabel('old/new vector similarity');"
   ]
  },
  {
   "cell_type": "markdown",
   "metadata": {},
   "source": [
    "## Квантизация"
   ]
  },
  {
   "cell_type": "markdown",
   "metadata": {},
   "source": [
    "В базовом варианте квантизация - это следующий логичный шаг после перехода от float32 к float16. Теперь мы заменим float'ы в матрице эмбеддингов на int'ы! Но использоваться они будут только для хранения, а при применении эмбеддинга каждому int'у будет сопоставляться дробное число, взятое из специальной матрицы-справочника. Получить такой справочник можно с помощью кластеризации (типа k-means). \n",
    "\n",
    "Идея о кластеризации может навести на следующий шаг: а давайте сопоставим int'ы не отдельным числам-компонентам эмбеддинга, а их последовательностям. Например, если кодироваться будут последовательности из 3 чисел, то 300-мерный вектор можно будет приближенно описать 100 целочисленными кодами. Такой подход называется product quantization, и он позволяет подойти к задаче сокращения размерности с совершенно иной стороны, чем матричная декомпозиция. \n",
    "\n"
   ]
  },
  {
   "cell_type": "markdown",
   "metadata": {},
   "source": [
    "```\n",
    "300 976.6052942276001 0.9934673549560236\n",
    "150 518.0685205459595 0.9764971832428561\n",
    "100 365.2229471206665 0.949259066389255\n",
    "50 212.37737369537354 0.85697155924806\n",
    "25 135.95458698272705 0.7258812834258547\n",
    "10 90.10091495513916 0.5838264818986315\n",
    "5 74.81635761260986 0.5129448006057942\n",
    "```"
   ]
  },
  {
   "cell_type": "code",
   "execution_count": 62,
   "metadata": {
    "scrolled": true
   },
   "outputs": [
    {
     "name": "stdout",
     "output_type": "stream",
     "text": [
      "quantizing vectors...\n"
     ]
    },
    {
     "name": "stderr",
     "output_type": "stream",
     "text": [
      "c:\\users\\ddale\\appdata\\local\\programs\\python\\python36\\lib\\site-packages\\scipy\\cluster\\vq.py:579: UserWarning: One of the clusters is empty. Re-run kmeans with a different initialization.\n",
      "  warnings.warn(\"One of the clusters is empty. \"\n"
     ]
    },
    {
     "name": "stdout",
     "output_type": "stream",
     "text": [
      "quantizing ngrams...\n",
      "300 662.4258499145508 0.993575371569805\n",
      "quantizing vectors...\n"
     ]
    },
    {
     "name": "stderr",
     "output_type": "stream",
     "text": [
      "c:\\users\\ddale\\appdata\\local\\programs\\python\\python36\\lib\\site-packages\\scipy\\cluster\\vq.py:579: UserWarning: One of the clusters is empty. Re-run kmeans with a different initialization.\n",
      "  warnings.warn(\"One of the clusters is empty. \"\n"
     ]
    },
    {
     "name": "stdout",
     "output_type": "stream",
     "text": [
      "quantizing ngrams...\n",
      "150 352.7195167541504 0.9757201153163947\n",
      "quantizing vectors...\n"
     ]
    },
    {
     "name": "stderr",
     "output_type": "stream",
     "text": [
      "c:\\users\\ddale\\appdata\\local\\programs\\python\\python36\\lib\\site-packages\\scipy\\cluster\\vq.py:579: UserWarning: One of the clusters is empty. Re-run kmeans with a different initialization.\n",
      "  warnings.warn(\"One of the clusters is empty. \"\n"
     ]
    },
    {
     "name": "stdout",
     "output_type": "stream",
     "text": [
      "quantizing ngrams...\n",
      "100 249.48408126831055 0.9477202867444653\n",
      "quantizing vectors...\n"
     ]
    },
    {
     "name": "stderr",
     "output_type": "stream",
     "text": [
      "c:\\users\\ddale\\appdata\\local\\programs\\python\\python36\\lib\\site-packages\\scipy\\cluster\\vq.py:579: UserWarning: One of the clusters is empty. Re-run kmeans with a different initialization.\n",
      "  warnings.warn(\"One of the clusters is empty. \"\n"
     ]
    },
    {
     "name": "stdout",
     "output_type": "stream",
     "text": [
      "quantizing ngrams...\n",
      "50 146.2486457824707 0.8563988019639737\n",
      "quantizing vectors...\n"
     ]
    },
    {
     "name": "stderr",
     "output_type": "stream",
     "text": [
      "c:\\users\\ddale\\appdata\\local\\programs\\python\\python36\\lib\\site-packages\\scipy\\cluster\\vq.py:579: UserWarning: One of the clusters is empty. Re-run kmeans with a different initialization.\n",
      "  warnings.warn(\"One of the clusters is empty. \"\n"
     ]
    },
    {
     "name": "stdout",
     "output_type": "stream",
     "text": [
      "quantizing ngrams...\n",
      "25 94.63092803955078 0.725524188447976\n",
      "quantizing vectors...\n"
     ]
    },
    {
     "name": "stderr",
     "output_type": "stream",
     "text": [
      "c:\\users\\ddale\\appdata\\local\\programs\\python\\python36\\lib\\site-packages\\scipy\\cluster\\vq.py:579: UserWarning: One of the clusters is empty. Re-run kmeans with a different initialization.\n",
      "  warnings.warn(\"One of the clusters is empty. \"\n"
     ]
    },
    {
     "name": "stdout",
     "output_type": "stream",
     "text": [
      "quantizing ngrams...\n",
      "10 63.66029739379883 0.5848841974721042\n",
      "quantizing vectors...\n"
     ]
    },
    {
     "name": "stderr",
     "output_type": "stream",
     "text": [
      "c:\\users\\ddale\\appdata\\local\\programs\\python\\python36\\lib\\site-packages\\scipy\\cluster\\vq.py:579: UserWarning: One of the clusters is empty. Re-run kmeans with a different initialization.\n",
      "  warnings.warn(\"One of the clusters is empty. \"\n"
     ]
    },
    {
     "name": "stdout",
     "output_type": "stream",
     "text": [
      "quantizing ngrams...\n",
      "5 53.336753845214844 0.5187669587603937\n"
     ]
    }
   ],
   "source": [
    "pq_sizes = []\n",
    "pq_sims = []\n",
    "pq_dims = [300, 150, 100, 50, 25, 10, 5]\n",
    "\n",
    "for d in pq_dims:\n",
    "    model = quantize_ft(big_ft, qdim=d, centroids=255, sample=10_000)\n",
    "    s = mb(model)\n",
    "    q = vecs_similarity(big_ft, model)\n",
    "    pq_sizes.append(s)\n",
    "    pq_sims.append(q)\n",
    "    print(d, s, q)\n",
    "    model.save(exp_path + 'ft_pq_{}.bin'.format(d))\n",
    "    gc.collect()"
   ]
  },
  {
   "cell_type": "code",
   "execution_count": 64,
   "metadata": {},
   "outputs": [
    {
     "data": {
      "image/png": "[encoded data removed]",
      "text/plain": [
       "<Figure size 432x288 with 1 Axes>"
      ]
     },
     "metadata": {
      "needs_background": "light"
     },
     "output_type": "display_data"
    }
   ],
   "source": [
    "plt.plot(dimred_sizes, dimred_sims)\n",
    "plt.plot(pq_sizes, pq_sims)\n",
    "plt.scatter([original_size], [1])\n",
    "plt.scatter([fp16_size], [fp16_sim])\n",
    "plt.legend(['svd', 'pq', 'original', 'fp16'])\n",
    "\n",
    "#plt.xscale('log')\n",
    "plt.xlabel('model size, mb')\n",
    "plt.ylabel('old/new vector similarity');"
   ]
  },
  {
   "cell_type": "markdown",
   "metadata": {},
   "source": [
    "## Уменьшение словаря"
   ]
  },
  {
   "cell_type": "markdown",
   "metadata": {},
   "source": [
    "Мы уже попробовали уменьшить матрицы fasttext-модели в ширину (с помощью декомпозиции) и \"в глубину\" (округляя их значения). Но ведь можно уменьшать матрицы и в длину, просто избавляясь от некоторых строк! Fasttext позволяет делать это относительно безнаказанно, ведь представление незнакомого слова можно построить по его n-граммам, а к самим n-граммам применен hashing trick. "
   ]
  },
  {
   "cell_type": "code",
   "execution_count": 48,
   "metadata": {},
   "outputs": [
    {
     "name": "stdout",
     "output_type": "stream",
     "text": [
      "164996 2000000\n"
     ]
    }
   ],
   "source": [
    "n_vecs = big_ft.vectors.shape[0]\n",
    "n_grams = big_ft.vectors_ngrams.shape[0]\n",
    "print(n_vecs, n_grams)"
   ]
  },
  {
   "cell_type": "markdown",
   "metadata": {},
   "source": [
    "Честно говоря, тут творится какая-то самая магическая магия, потому что теперь качество модели и размер связаны совсем немонотонно - они зависят от числа коллизий, а оно зависит от размера хэшей..."
   ]
  },
  {
   "cell_type": "markdown",
   "metadata": {},
   "source": [
    "При сжатии модели с коэффициентом 1.0 я получаю тот же самый размер модели, но совершенно ужасную точность.\n",
    "\n",
    "ПОЧЕМУ???"
   ]
  },
  {
   "cell_type": "code",
   "execution_count": 15,
   "metadata": {},
   "outputs": [
    {
     "name": "stdout",
     "output_type": "stream",
     "text": [
      "compressing vectors...\n",
      "compressing ngrams...\n"
     ]
    },
    {
     "data": {
      "application/vnd.jupyter.widget-view+json": {
       "model_id": "8ef22db17bcc4aa3b1e35262b764278f",
       "version_major": 2,
       "version_minor": 0
      },
      "text/plain": [
       "HBox(children=(FloatProgress(value=0.0, max=164996.0), HTML(value='')))"
      ]
     },
     "metadata": {},
     "output_type": "display_data"
    },
    {
     "name": "stdout",
     "output_type": "stream",
     "text": [
      "\n"
     ]
    },
    {
     "data": {
      "application/vnd.jupyter.widget-view+json": {
       "model_id": "68e87e83bf4040b4ba3a286d38f568fc",
       "version_major": 2,
       "version_minor": 0
      },
      "text/plain": [
       "HBox(children=(FloatProgress(value=0.0, max=331328.0), HTML(value='')))"
      ]
     },
     "metadata": {},
     "output_type": "display_data"
    },
    {
     "name": "stdout",
     "output_type": "stream",
     "text": [
      "\n",
      "   1.0  1280.67  0.9126\n",
      "compressing vectors...\n",
      "compressing ngrams...\n"
     ]
    },
    {
     "data": {
      "application/vnd.jupyter.widget-view+json": {
       "model_id": "aec38adbbaf443229dcf5457ad9cd9cb",
       "version_major": 2,
       "version_minor": 0
      },
      "text/plain": [
       "HBox(children=(FloatProgress(value=0.0, max=164996.0), HTML(value='')))"
      ]
     },
     "metadata": {},
     "output_type": "display_data"
    },
    {
     "name": "stdout",
     "output_type": "stream",
     "text": [
      "\n"
     ]
    },
    {
     "data": {
      "application/vnd.jupyter.widget-view+json": {
       "model_id": "d591813d445a48379ea605b38e2f8fc2",
       "version_major": 2,
       "version_minor": 0
      },
      "text/plain": [
       "HBox(children=(FloatProgress(value=0.0, max=303885.0), HTML(value='')))"
      ]
     },
     "metadata": {},
     "output_type": "display_data"
    },
    {
     "name": "stdout",
     "output_type": "stream",
     "text": [
      "\n",
      "   0.5  640.818  0.9195\n",
      "compressing vectors...\n",
      "compressing ngrams...\n"
     ]
    },
    {
     "data": {
      "application/vnd.jupyter.widget-view+json": {
       "model_id": "5853d175b48248c8a71779038224f30a",
       "version_major": 2,
       "version_minor": 0
      },
      "text/plain": [
       "HBox(children=(FloatProgress(value=0.0, max=164996.0), HTML(value='')))"
      ]
     },
     "metadata": {},
     "output_type": "display_data"
    },
    {
     "name": "stdout",
     "output_type": "stream",
     "text": [
      "\n"
     ]
    },
    {
     "data": {
      "application/vnd.jupyter.widget-view+json": {
       "model_id": "4b6718199e4441d6be7f348ef49265b2",
       "version_major": 2,
       "version_minor": 0
      },
      "text/plain": [
       "HBox(children=(FloatProgress(value=0.0, max=238687.0), HTML(value='')))"
      ]
     },
     "metadata": {},
     "output_type": "display_data"
    },
    {
     "name": "stdout",
     "output_type": "stream",
     "text": [
      "\n",
      "   0.2  257.071  0.9026\n",
      "compressing vectors...\n",
      "compressing ngrams...\n"
     ]
    },
    {
     "data": {
      "application/vnd.jupyter.widget-view+json": {
       "model_id": "82147dfc7d164a3098ba1df258dd98c6",
       "version_major": 2,
       "version_minor": 0
      },
      "text/plain": [
       "HBox(children=(FloatProgress(value=0.0, max=164996.0), HTML(value='')))"
      ]
     },
     "metadata": {},
     "output_type": "display_data"
    },
    {
     "name": "stdout",
     "output_type": "stream",
     "text": [
      "\n"
     ]
    },
    {
     "data": {
      "application/vnd.jupyter.widget-view+json": {
       "model_id": "f9586d8d8797404ea93afefc99225906",
       "version_major": 2,
       "version_minor": 0
      },
      "text/plain": [
       "HBox(children=(FloatProgress(value=0.0, max=167461.0), HTML(value='')))"
      ]
     },
     "metadata": {},
     "output_type": "display_data"
    },
    {
     "name": "stdout",
     "output_type": "stream",
     "text": [
      "\n",
      "   0.1  128.473  0.8933\n",
      "compressing vectors...\n",
      "compressing ngrams...\n"
     ]
    },
    {
     "data": {
      "application/vnd.jupyter.widget-view+json": {
       "model_id": "a0aa329e6f224f449679e4d9eb927519",
       "version_major": 2,
       "version_minor": 0
      },
      "text/plain": [
       "HBox(children=(FloatProgress(value=0.0, max=164996.0), HTML(value='')))"
      ]
     },
     "metadata": {},
     "output_type": "display_data"
    },
    {
     "name": "stdout",
     "output_type": "stream",
     "text": [
      "\n"
     ]
    },
    {
     "data": {
      "application/vnd.jupyter.widget-view+json": {
       "model_id": "278b43f35ec348eca762d373b735d611",
       "version_major": 2,
       "version_minor": 0
      },
      "text/plain": [
       "HBox(children=(FloatProgress(value=0.0, max=97359.0), HTML(value='')))"
      ]
     },
     "metadata": {},
     "output_type": "display_data"
    },
    {
     "name": "stdout",
     "output_type": "stream",
     "text": [
      "\n",
      "  0.05  64.2367  0.8442\n",
      "compressing vectors...\n",
      "compressing ngrams...\n"
     ]
    },
    {
     "data": {
      "application/vnd.jupyter.widget-view+json": {
       "model_id": "2d66c31a2a4d4a08a437ef09f13a0f48",
       "version_major": 2,
       "version_minor": 0
      },
      "text/plain": [
       "HBox(children=(FloatProgress(value=0.0, max=164996.0), HTML(value='')))"
      ]
     },
     "metadata": {},
     "output_type": "display_data"
    },
    {
     "name": "stdout",
     "output_type": "stream",
     "text": [
      "\n"
     ]
    },
    {
     "data": {
      "application/vnd.jupyter.widget-view+json": {
       "model_id": "658bcba66a7c486e87a41e8ce697318c",
       "version_major": 2,
       "version_minor": 0
      },
      "text/plain": [
       "HBox(children=(FloatProgress(value=0.0, max=39993.0), HTML(value='')))"
      ]
     },
     "metadata": {},
     "output_type": "display_data"
    },
    {
     "name": "stdout",
     "output_type": "stream",
     "text": [
      "\n",
      "  0.02  25.7229  0.7655\n",
      "compressing vectors...\n",
      "compressing ngrams...\n"
     ]
    },
    {
     "data": {
      "application/vnd.jupyter.widget-view+json": {
       "model_id": "e51b9861f4874ff7aab69489a547e551",
       "version_major": 2,
       "version_minor": 0
      },
      "text/plain": [
       "HBox(children=(FloatProgress(value=0.0, max=164996.0), HTML(value='')))"
      ]
     },
     "metadata": {},
     "output_type": "display_data"
    },
    {
     "name": "stdout",
     "output_type": "stream",
     "text": [
      "\n"
     ]
    },
    {
     "data": {
      "application/vnd.jupyter.widget-view+json": {
       "model_id": "24dc1ff3f9e84bc592b50f0da797eb4e",
       "version_major": 2,
       "version_minor": 0
      },
      "text/plain": [
       "HBox(children=(FloatProgress(value=0.0, max=20000.0), HTML(value='')))"
      ]
     },
     "metadata": {},
     "output_type": "display_data"
    },
    {
     "name": "stdout",
     "output_type": "stream",
     "text": [
      "\n",
      "  0.01  12.8615  0.6882\n",
      "compressing vectors...\n",
      "compressing ngrams...\n"
     ]
    },
    {
     "data": {
      "application/vnd.jupyter.widget-view+json": {
       "model_id": "b63d8569ee8f41dba21e3846f465c4b5",
       "version_major": 2,
       "version_minor": 0
      },
      "text/plain": [
       "HBox(children=(FloatProgress(value=0.0, max=164996.0), HTML(value='')))"
      ]
     },
     "metadata": {},
     "output_type": "display_data"
    },
    {
     "name": "stdout",
     "output_type": "stream",
     "text": [
      "\n"
     ]
    },
    {
     "data": {
      "application/vnd.jupyter.widget-view+json": {
       "model_id": "210fda5e45034e1bb2d39784ec1a8ee3",
       "version_major": 2,
       "version_minor": 0
      },
      "text/plain": [
       "HBox(children=(FloatProgress(value=0.0, max=10000.0), HTML(value='')))"
      ]
     },
     "metadata": {},
     "output_type": "display_data"
    },
    {
     "name": "stdout",
     "output_type": "stream",
     "text": [
      "\n",
      " 0.005  6.43079  0.6139\n",
      "compressing vectors...\n",
      "compressing ngrams...\n"
     ]
    },
    {
     "data": {
      "application/vnd.jupyter.widget-view+json": {
       "model_id": "4c7aeb4d61ad4082956a265b5521581d",
       "version_major": 2,
       "version_minor": 0
      },
      "text/plain": [
       "HBox(children=(FloatProgress(value=0.0, max=164996.0), HTML(value='')))"
      ]
     },
     "metadata": {},
     "output_type": "display_data"
    },
    {
     "name": "stdout",
     "output_type": "stream",
     "text": [
      "\n"
     ]
    },
    {
     "data": {
      "application/vnd.jupyter.widget-view+json": {
       "model_id": "87e0a7cd4482409e86e5e48307b3f89f",
       "version_major": 2,
       "version_minor": 0
      },
      "text/plain": [
       "HBox(children=(FloatProgress(value=0.0, max=4000.0), HTML(value='')))"
      ]
     },
     "metadata": {},
     "output_type": "display_data"
    },
    {
     "name": "stdout",
     "output_type": "stream",
     "text": [
      "\n",
      " 0.002  2.5671  0.5112\n",
      "compressing vectors...\n",
      "compressing ngrams...\n"
     ]
    },
    {
     "data": {
      "application/vnd.jupyter.widget-view+json": {
       "model_id": "5f7564de2f6c468f8f0dfc57ef8b03c6",
       "version_major": 2,
       "version_minor": 0
      },
      "text/plain": [
       "HBox(children=(FloatProgress(value=0.0, max=164996.0), HTML(value='')))"
      ]
     },
     "metadata": {},
     "output_type": "display_data"
    },
    {
     "name": "stdout",
     "output_type": "stream",
     "text": [
      "\n"
     ]
    },
    {
     "data": {
      "application/vnd.jupyter.widget-view+json": {
       "model_id": "d26e6519fcb64c4a92122ea6a94df47f",
       "version_major": 2,
       "version_minor": 0
      },
      "text/plain": [
       "HBox(children=(FloatProgress(value=0.0, max=2000.0), HTML(value='')))"
      ]
     },
     "metadata": {},
     "output_type": "display_data"
    },
    {
     "name": "stdout",
     "output_type": "stream",
     "text": [
      "\n",
      " 0.001  1.2836  0.4416\n"
     ]
    }
   ],
   "source": [
    "trim_sizes = []\n",
    "trim_sims = []\n",
    "trim_mults = [1.0, 0.5, 0.2, 0.1, 0.05, 0.02, 0.01, 0.005, 0.002, 0.001]\n",
    "\n",
    "for d in trim_mults:\n",
    "    model = trim_ft(big_ft, new_ngrams_size=int(d*n_grams), new_vocab_size=int(d*n_vecs), fp16=True)\n",
    "    s = mb(model)\n",
    "    q = vecs_similarity(big_ft, model)\n",
    "    trim_sizes.append(s)\n",
    "    trim_sims.append(q)\n",
    "    print('{:6.6}  {:6.6}  {:6.4}'.format(d, s, q))\n",
    "    model.save(exp_path + 'ft_trim_{}.bin'.format(d))\n",
    "    gc.collect()"
   ]
  },
  {
   "cell_type": "code",
   "execution_count": 16,
   "metadata": {},
   "outputs": [
    {
     "data": {
      "image/png": "[encoded data removed]",
      "text/plain": [
       "<Figure size 432x288 with 1 Axes>"
      ]
     },
     "metadata": {
      "needs_background": "light"
     },
     "output_type": "display_data"
    }
   ],
   "source": [
    "plt.plot(trim_sizes, trim_sims);\n",
    "plt.xlabel('model size, mb');\n",
    "plt.ylabel('old/new vector similarity');"
   ]
  },
  {
   "cell_type": "markdown",
   "metadata": {},
   "source": [
    "# Отбор n-грам"
   ]
  },
  {
   "cell_type": "code",
   "execution_count": 50,
   "metadata": {},
   "outputs": [
    {
     "name": "stdout",
     "output_type": "stream",
     "text": [
      "2000000\n",
      "331328\n"
     ]
    }
   ],
   "source": [
    "big_n = big_ft.vectors_ngrams.shape[0]\n",
    "small_n = 10_000 \n",
    "\n",
    "new_to_old_buckets, old_hash_count = compress_fasttext.prune.count_buckets(\n",
    "    big_ft, list(big_ft.vocab.keys()) , small_n\n",
    ")\n",
    "print(big_n)\n",
    "print(len(old_hash_count))"
   ]
  },
  {
   "cell_type": "code",
   "execution_count": 53,
   "metadata": {},
   "outputs": [
    {
     "name": "stdout",
     "output_type": "stream",
     "text": [
      "   1.0  447.942  0.9997\n",
      "   0.5  224.452  0.9979\n",
      "   0.2  91.0208  0.9848\n",
      "   0.1  45.4441  0.9504\n",
      "  0.05  22.656  0.8855\n",
      "  0.02  9.1423  0.7675\n",
      "  0.01  4.56761  0.6627\n",
      " 0.005  2.27995  0.5778\n",
      " 0.002  0.891689  0.4594\n",
      " 0.001  0.444801  0.3591\n"
     ]
    }
   ],
   "source": [
    "trimf_sizes = []\n",
    "trimf_sims = []\n",
    "trimf_mults = [1.0, 0.5, 0.2, 0.1, 0.05, 0.02, 0.01, 0.005, 0.002, 0.001]\n",
    "\n",
    "for d in trimf_mults:\n",
    "    model = prune_ft_freq(big_ft, new_ngrams_size=int(d*len(old_hash_count)), new_vocab_size=int(d*n_vecs), fp16=True, pq=False)\n",
    "    s = mb(model)\n",
    "    q = ev(model)\n",
    "    trimf_sizes.append(s)\n",
    "    trimf_sims.append(q)\n",
    "    print('{:6.6}  {:6.6}  {:6.4}'.format(d, s, q))\n",
    "    model.save(exp_path + 'ft_prune_freq_{}.bin'.format(d))\n",
    "    gc.collect()"
   ]
  },
  {
   "cell_type": "markdown",
   "metadata": {},
   "source": [
    "# Разбираемся в странностях сжатия\n",
    "\n",
    "Одной странностью была бага, которую я посадил при пересортировке словаря. \n",
    "\n",
    "Другая странность - что однобуквенные слова в словарь обученной модели не входят, и оттого совершенно теряются. \n"
   ]
  },
  {
   "cell_type": "code",
   "execution_count": 10,
   "metadata": {},
   "outputs": [],
   "source": [
    "ft = big_ft"
   ]
  },
  {
   "cell_type": "code",
   "execution_count": 11,
   "metadata": {},
   "outputs": [],
   "source": [
    "gc.collect()\n",
    "model = gensim.models.fasttext.FastTextKeyedVectors.load(exp_path + 'ft_trim_{}.bin'.format(1.0))"
   ]
  },
  {
   "cell_type": "code",
   "execution_count": 25,
   "metadata": {},
   "outputs": [],
   "source": [
    "from compress_fasttext.evaluation import cosine, vocabulary_from_files"
   ]
  },
  {
   "cell_type": "code",
   "execution_count": 26,
   "metadata": {},
   "outputs": [],
   "source": [
    "tv = vocabulary_from_files('../data/toy_corpora/')"
   ]
  },
  {
   "cell_type": "code",
   "execution_count": 41,
   "metadata": {},
   "outputs": [
    {
     "data": {
      "text/plain": [
       "1268"
      ]
     },
     "execution_count": 41,
     "metadata": {},
     "output_type": "execute_result"
    }
   ],
   "source": [
    "len(tv)"
   ]
  },
  {
   "cell_type": "code",
   "execution_count": 29,
   "metadata": {},
   "outputs": [
    {
     "name": "stdout",
     "output_type": "stream",
     "text": [
      "сетях                +0.8934 \n",
      "случае               +0.9344 \n",
      "службы               +0.9065 \n",
      "ноября               +0.9356 \n"
     ]
    }
   ],
   "source": [
    "lost = set()\n",
    "for w in tv:\n",
    "    c = cosine(ft[w], model[w])\n",
    "    if c < 0.95 and w not in lost:\n",
    "        lost.add(w)\n",
    "        print('{:20} {:+4.4} '.format(w, c))"
   ]
  },
  {
   "cell_type": "markdown",
   "metadata": {},
   "source": [
    "Из 2 миллионов строк используются, кажется, только 330 тысяч. Вот это расточительность!"
   ]
  },
  {
   "cell_type": "code",
   "execution_count": 12,
   "metadata": {
    "scrolled": true
   },
   "outputs": [
    {
     "name": "stdout",
     "output_type": "stream",
     "text": [
      "2000000\n",
      "331332\n"
     ]
    }
   ],
   "source": [
    "big_n = big_ft.vectors_ngrams.shape[0]\n",
    "small_n = 10_000 \n",
    "\n",
    "new_to_old_buckets, old_hash_count = compress_fasttext.prune.count_buckets(\n",
    "    big_ft, list(big_ft.vocab.keys()) + ['и', 'а', 'у', 'в'], small_n\n",
    ")\n",
    "print(big_n)\n",
    "print(len(old_hash_count))"
   ]
  },
  {
   "cell_type": "code",
   "execution_count": 17,
   "metadata": {},
   "outputs": [],
   "source": [
    "import pandas as pd"
   ]
  },
  {
   "cell_type": "code",
   "execution_count": 18,
   "metadata": {},
   "outputs": [],
   "source": [
    "cvs = pd.Series(list(old_hash_count.values())).sort_values(ascending=False)"
   ]
  },
  {
   "cell_type": "code",
   "execution_count": 19,
   "metadata": {},
   "outputs": [
    {
     "data": {
      "text/plain": [
       "0.50      2.0\n",
       "0.75      5.0\n",
       "0.90     16.0\n",
       "0.95     33.0\n",
       "0.99    156.0\n",
       "dtype: float64"
      ]
     },
     "execution_count": 19,
     "metadata": {},
     "output_type": "execute_result"
    }
   ],
   "source": [
    "cvs.quantile([0.5, 0.75, 0.9, 0.95, 0.99])"
   ]
  },
  {
   "cell_type": "code",
   "execution_count": 20,
   "metadata": {
    "scrolled": true
   },
   "outputs": [
    {
     "data": {
      "image/png": "[encoded data removed]",
      "text/plain": [
       "<Figure size 432x288 with 1 Axes>"
      ]
     },
     "metadata": {
      "needs_background": "light"
     },
     "output_type": "display_data"
    }
   ],
   "source": [
    "plt.plot(cvs.values.cumsum());"
   ]
  },
  {
   "cell_type": "markdown",
   "metadata": {},
   "source": [
    "# Гибридная моделька"
   ]
  },
  {
   "cell_type": "code",
   "execution_count": 29,
   "metadata": {},
   "outputs": [
    {
     "name": "stdout",
     "output_type": "stream",
     "text": [
      "128.47385025024414\n",
      "0.8932943583602944\n"
     ]
    }
   ],
   "source": [
    "ft_prune_01 = gensim.models.fasttext.FastTextKeyedVectors.load(exp_path + 'ft_trim_{}.bin'.format(0.1))\n",
    "print(mb(ft_prune_01))\n",
    "print(vecs_similarity(big_ft, ft_prune_01))"
   ]
  },
  {
   "cell_type": "code",
   "execution_count": 59,
   "metadata": {},
   "outputs": [
    {
     "name": "stdout",
     "output_type": "stream",
     "text": [
      "quantizing vectors...\n",
      "quantizing ngrams...\n",
      "26.406986236572266\n",
      "0.8689667435098675\n"
     ]
    }
   ],
   "source": [
    "ft_prune_01_pq_100 = quantize_ft(ft_prune_01, qdim=100, centroids=255, sample=None)\n",
    "print(mb(ft_prune_01_pq_100))\n",
    "print(vecs_similarity(big_ft, ft_prune_01_pq_100))"
   ]
  },
  {
   "cell_type": "code",
   "execution_count": 63,
   "metadata": {},
   "outputs": [],
   "source": [
    "ft_prune_01_pq_100.save(exp_path + 'ft_prune_0.1_pq_100.bin')"
   ]
  },
  {
   "cell_type": "code",
   "execution_count": 72,
   "metadata": {},
   "outputs": [
    {
     "name": "stdout",
     "output_type": "stream",
     "text": [
      "640.8182830810547\n",
      "0.9194673153986586\n",
      "quantizing vectors...\n",
      "quantizing ngrams...\n",
      "125.81085586547852\n",
      "0.8785711846324927\n"
     ]
    }
   ],
   "source": [
    "ft_prune_05 = gensim.models.fasttext.FastTextKeyedVectors.load(exp_path + 'ft_trim_{}.bin'.format(0.5))\n",
    "print(mb(ft_prune_05))\n",
    "print(vecs_similarity(big_ft, ft_prune_05))\n",
    "\n",
    "ft_prune_05_pq_100 = quantize_ft(ft_prune_05, qdim=100, centroids=255, sample=None)\n",
    "print(mb(ft_prune_05_pq_100))\n",
    "print(vecs_similarity(big_ft, ft_prune_05_pq_100))"
   ]
  },
  {
   "cell_type": "code",
   "execution_count": 73,
   "metadata": {},
   "outputs": [],
   "source": [
    "ft_prune_05_pq_100.save(exp_path + 'ft_prune_0.5_pq_100.bin')"
   ]
  },
  {
   "cell_type": "code",
   "execution_count": null,
   "metadata": {},
   "outputs": [],
   "source": [
    "ftc2 = prune_ft_freq(big_ft, new_vocab_size=20_000, new_ngrams_size=100_000, pq=True, qdim=100)\n",
    "print(mb(ftc2))\n",
    "print(ev(ftc2))"
   ]
  },
  {
   "cell_type": "code",
   "execution_count": null,
   "metadata": {},
   "outputs": [],
   "source": [
    "ftc2.save(exp_path + 'ft_freqprune_100K_20K_pq_100.bin')"
   ]
  },
  {
   "cell_type": "markdown",
   "metadata": {},
   "source": [
    "### Подбор параметров"
   ]
  },
  {
   "cell_type": "markdown",
   "metadata": {},
   "source": [
    "Делаем целый парад гибридных моделек (это можно было бы на самом деле заметно ускорить, копируя словарики, но чё-то мне лень).\n",
    "\n",
    "4 * 3 * 4 = 48 моделек придётся сейчас положить мне на диск. Но ладно. "
   ]
  },
  {
   "cell_type": "code",
   "execution_count": 225,
   "metadata": {},
   "outputs": [],
   "source": [
    "from compress_fasttext.prune import prune_ngrams, prune_vocab, count_buckets, RowSparseMatrix"
   ]
  },
  {
   "cell_type": "code",
   "execution_count": 228,
   "metadata": {},
   "outputs": [],
   "source": [
    "def prune_ft_freq(ft, new_vocab_size=20_000, new_ngrams_size=100_000, fp16=True, pq=True, qdim=100, centroids=255):\n",
    "    new_to_old_buckets, old_hash_count = count_buckets(ft, list(ft.vocab.keys()), new_ngrams_size=new_ngrams_size)\n",
    "    id_and_count = sorted(old_hash_count.items(), key=lambda x: x[1], reverse=True)\n",
    "    ids = [x[0] for x in id_and_count[:new_ngrams_size]]\n",
    "    top_ngram_vecs = ft.vectors_ngrams[ids]\n",
    "    if pq and len(top_ngram_vecs) > 0:\n",
    "        top_ngram_vecs = quantize(top_ngram_vecs, qdim=qdim, centroids=centroids)\n",
    "    elif fp16:\n",
    "        top_ngram_vecs = top_ngram_vecs.astype(np.float16)\n",
    "    rsm = RowSparseMatrix.from_small(ids, top_ngram_vecs, nrows=ft.vectors_ngrams.shape[0])\n",
    "\n",
    "    top_voc, top_vec = prune_vocab(ft, new_vocab_size=new_vocab_size)\n",
    "    if pq and len(top_vec) > 0:\n",
    "        top_vec = quantize(top_vec, qdim=qdim, centroids=centroids)\n",
    "    elif fp16:\n",
    "        top_vec = top_vec.astype(np.float16)\n",
    "\n",
    "    return make_new_fasttext_model(ft, top_vec, rsm, new_vocab=top_voc)\n"
   ]
  },
  {
   "cell_type": "code",
   "execution_count": 236,
   "metadata": {},
   "outputs": [
    {
     "name": "stdout",
     "output_type": "stream",
     "text": [
      "ft_freqprune_400K_100K_pq_300.bin\n",
      "ft_freqprune_400K_20K_pq_300.bin\n",
      "ft_freqprune_400K_5K_pq_300.bin\n",
      "ft_freqprune_400K_0K_pq_300.bin\n",
      "ft_freqprune_100K_100K_pq_300.bin\n",
      "ft_freqprune_100K_20K_pq_300.bin\n",
      "ft_freqprune_100K_5K_pq_300.bin\n",
      "ft_freqprune_100K_0K_pq_300.bin\n",
      "ft_freqprune_50K_100K_pq_300.bin\n",
      "ft_freqprune_50K_20K_pq_300.bin\n",
      "ft_freqprune_50K_5K_pq_300.bin\n",
      "ft_freqprune_50K_0K_pq_300.bin\n",
      "ft_freqprune_400K_100K_pq_100.bin\n",
      "ft_freqprune_400K_20K_pq_100.bin\n",
      "ft_freqprune_400K_5K_pq_100.bin\n",
      "ft_freqprune_400K_0K_pq_100.bin\n",
      "ft_freqprune_100K_100K_pq_100.bin\n",
      "ft_freqprune_100K_20K_pq_100.bin\n",
      "ft_freqprune_100K_5K_pq_100.bin\n",
      "ft_freqprune_100K_0K_pq_100.bin\n",
      "ft_freqprune_50K_100K_pq_100.bin\n",
      "ft_freqprune_50K_20K_pq_100.bin\n",
      "ft_freqprune_50K_5K_pq_100.bin\n",
      "ft_freqprune_50K_0K_pq_100.bin\n",
      "ft_freqprune_400K_100K_pq_50.bin\n",
      "ft_freqprune_400K_20K_pq_50.bin\n",
      "ft_freqprune_400K_5K_pq_50.bin\n",
      "ft_freqprune_400K_0K_pq_50.bin\n",
      "ft_freqprune_100K_100K_pq_50.bin\n",
      "ft_freqprune_100K_20K_pq_50.bin\n",
      "ft_freqprune_100K_5K_pq_50.bin\n",
      "ft_freqprune_100K_0K_pq_50.bin\n",
      "ft_freqprune_50K_100K_pq_50.bin\n",
      "ft_freqprune_50K_20K_pq_50.bin\n",
      "ft_freqprune_50K_5K_pq_50.bin\n",
      "ft_freqprune_50K_0K_pq_50.bin\n"
     ]
    }
   ],
   "source": [
    "for qdim in [300, 100, 50]:\n",
    "    for new_ngrams_size in [400_000, 100_000, 50_000]:\n",
    "        for new_vocab_size in [100_000, 20_000, 5_000, 0]:\n",
    "            mn = 'ft_freqprune_{}K_{}K_pq_{}.bin'.format(int(new_ngrams_size/1000), int(new_vocab_size/1000), qdim)\n",
    "            print(mn)\n",
    "            if os.path.exists(exp_path + mn):\n",
    "                continue\n",
    "            ftc = prune_ft_freq(big_ft, new_vocab_size=new_vocab_size, new_ngrams_size=new_ngrams_size, pq=True, qdim=qdim)\n",
    "            ftc.save(exp_path + mn)"
   ]
  },
  {
   "cell_type": "markdown",
   "metadata": {},
   "source": [
    "## считываем результаты с диска и сравниваем\n",
    "\n",
    "Перенёс этот раздел в evaluate_all.ipynb"
   ]
  },
  {
   "cell_type": "code",
   "execution_count": 42,
   "metadata": {},
   "outputs": [],
   "source": [
    "ft_prune_01_pq_100 = gensim.models.fasttext.FastTextKeyedVectors.load(exp_path + 'ft_prune_0.1_pq_100.bin')"
   ]
  },
  {
   "cell_type": "code",
   "execution_count": 43,
   "metadata": {},
   "outputs": [],
   "source": [
    "ft_freqprune_100K_20K_pq_100 = gensim.models.fasttext.FastTextKeyedVectors.load(exp_path + 'ft_freqprune_100K_20K_pq_100.bin')"
   ]
  },
  {
   "cell_type": "code",
   "execution_count": 31,
   "metadata": {},
   "outputs": [],
   "source": [
    "format3 = '{:6.6}  {:6.6}  {:6.4}'"
   ]
  },
  {
   "cell_type": "code",
   "execution_count": 33,
   "metadata": {},
   "outputs": [
    {
     "name": "stdout",
     "output_type": "stream",
     "text": [
      " 150.0   661.6  0.8857\n",
      " 100.0  455.015  0.8281\n",
      "  50.0  248.431  0.7412\n",
      "  25.0  145.139  0.6612\n",
      "  10.0  83.1632  0.5557\n",
      "   5.0  62.5048  0.4646\n"
     ]
    }
   ],
   "source": [
    "dimred_sizes = []\n",
    "dimred_sims = []\n",
    "dimred_dims = [150, 100, 50, 25, 10, 5]\n",
    "\n",
    "for d in dimred_dims:\n",
    "    model = gensim.models.fasttext.FastTextKeyedVectors.load(exp_path + 'ft_dimred_{}.bin'.format(d))\n",
    "    s = mb(model)\n",
    "    q = ev(model)\n",
    "    dimred_sizes.append(s)\n",
    "    dimred_sims.append(q)\n",
    "    print(format3.format(d*1.0, s, q))\n",
    "    gc.collect()"
   ]
  },
  {
   "cell_type": "code",
   "execution_count": null,
   "metadata": {},
   "outputs": [],
   "source": [
    "300 976.6052942276001 0.9934673549560236\n",
    "150 518.0685205459595 0.9764971832428561\n",
    "100 365.2229471206665 0.949259066389255\n",
    "50 212.37737369537354 0.85697155924806\n",
    "25 135.95458698272705 0.7258812834258547\n",
    "10 90.10091495513916 0.5838264818986315\n",
    "5 74.81635761260986 0.5129448006057942"
   ]
  },
  {
   "cell_type": "code",
   "execution_count": 35,
   "metadata": {},
   "outputs": [
    {
     "name": "stdout",
     "output_type": "stream",
     "text": [
      " 300.0  662.427  0.9909\n",
      " 150.0  352.72  0.9686\n",
      " 100.0  249.485  0.9377\n",
      "  50.0  146.25  0.8424\n",
      "  25.0  94.6319  0.7234\n",
      "  10.0  63.6613   0.607\n",
      "   5.0  53.3377  0.5468\n"
     ]
    }
   ],
   "source": [
    "pq_sizes = []\n",
    "pq_sims = []\n",
    "pq_dims = [300, 150, 100, 50, 25, 10, 5]\n",
    "\n",
    "for d in pq_dims:\n",
    "    model = gensim.models.fasttext.FastTextKeyedVectors.load(exp_path + 'ft_pq_{}.bin'.format(d))\n",
    "    s = mb(model)\n",
    "    q = ev(model)\n",
    "    pq_sizes.append(s)\n",
    "    pq_sims.append(q)\n",
    "    print(format3.format(d*1.0, s, q))\n",
    "    gc.collect()"
   ]
  },
  {
   "cell_type": "markdown",
   "metadata": {},
   "source": [
    "```\n",
    "исходно было вообще что-то бешеное\n",
    "\n",
    "1.0 1280.6667785644531 0.7343834324890214\n",
    "0.5 640.8182830810547 0.7475458227979501\n",
    "0.2 257.0719566345215 0.7804176247791937\n",
    "0.1 128.47385025024414 0.7923524743459548\n",
    "0.05 64.23728561401367 0.8217848257624584\n",
    "0.02 25.72348403930664 0.7655165270039631\n",
    "0.01 12.862011909484863 0.6882214727696405\n",
    "0.005 6.431332588195801 0.6139219773191233\n",
    "0.002 2.5676469802856445 0.5112279759786497\n",
    "0.001 1.2841386795043945 0.4415964335883225\n",
    "```"
   ]
  },
  {
   "cell_type": "code",
   "execution_count": 36,
   "metadata": {},
   "outputs": [
    {
     "name": "stdout",
     "output_type": "stream",
     "text": [
      "   1.0  1280.67  0.9997\n",
      "   0.5  640.818  0.9956\n",
      "   0.2  257.072  0.9833\n",
      "   0.1  128.474  0.9628\n",
      "  0.05  64.2373  0.9237\n",
      "  0.02  25.7235  0.8444\n",
      "  0.01  12.862  0.7608\n",
      " 0.005  6.43133  0.6725\n",
      " 0.002  2.56765  0.5694\n",
      " 0.001  1.28414  0.5004\n"
     ]
    }
   ],
   "source": [
    "trim_sizes = []\n",
    "trim_sims = []\n",
    "trim_mults = [1.0, 0.5, 0.2, 0.1, 0.05, 0.02, 0.01, 0.005, 0.002, 0.001]\n",
    "\n",
    "for d in trim_mults:\n",
    "    model = gensim.models.fasttext.FastTextKeyedVectors.load(exp_path + 'ft_trim_{}.bin'.format(d))\n",
    "    s = mb(model)\n",
    "    q = ev(model)\n",
    "    trim_sizes.append(s)\n",
    "    trim_sims.append(q)\n",
    "    print(format3.format(d, s, q))\n",
    "    gc.collect()"
   ]
  },
  {
   "cell_type": "code",
   "execution_count": 63,
   "metadata": {},
   "outputs": [
    {
     "data": {
      "image/png": "[encoded data removed]",
      "text/plain": [
       "<Figure size 576x288 with 1 Axes>"
      ]
     },
     "metadata": {
      "needs_background": "light"
     },
     "output_type": "display_data"
    }
   ],
   "source": [
    "plt.figure(figsize=(8,4))\n",
    "\n",
    "plt.plot(dimred_sizes, dimred_sims)\n",
    "plt.plot(pq_sizes, pq_sims)\n",
    "plt.plot(trim_sizes, trim_sims)\n",
    "plt.plot(trimf_sizes, trimf_sims)\n",
    "\n",
    "plt.scatter([original_size], [1])\n",
    "plt.scatter([fp16_size], [fp16_sim])\n",
    "\n",
    "# plt.scatter([mb(ft_prune_01_pq_100),], [ev(ft_prune_01_pq_100),])\n",
    "\n",
    "plt.scatter(\n",
    "    [mb(ft_freqprune_100K_20K_pq_100)], \n",
    "    [ev(ft_freqprune_100K_20K_pq_100)]\n",
    ")\n",
    "plt.legend(['svd', 'pq', 'prune', 'prune freq', 'original', 'fp16', 'prune freq + pq'], loc='lower right')\n",
    "\n",
    "plt.xscale('log')\n",
    "plt.xlabel('model size, mb')\n",
    "plt.ylabel('cosine similarity')\n",
    "plt.title('Representation accuracy vs model compression');"
   ]
  }
 ],
 "metadata": {
  "kernelspec": {
   "display_name": "Python 3",
   "language": "python",
   "name": "python3"
  },
  "language_info": {
   "codemirror_mode": {
    "name": "ipython",
    "version": 3
   },
   "file_extension": ".py",
   "mimetype": "text/x-python",
   "name": "python",
   "nbconvert_exporter": "python",
   "pygments_lexer": "ipython3",
   "version": "3.6.8"
  }
 },
 "nbformat": 4,
 "nbformat_minor": 2
}
